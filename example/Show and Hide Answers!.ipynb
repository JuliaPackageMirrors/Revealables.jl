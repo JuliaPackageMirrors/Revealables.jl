{
 "cells": [
  {
   "cell_type": "code",
   "execution_count": 2,
   "metadata": {
    "collapsed": false,
    "input_collapsed": false,
    "run_control": {
     "read_only": false
    }
   },
   "outputs": [
    {
     "data": {
      "text/html": [
       "<script charset=\"utf-8\">(function ($, undefined) {\n",
       "\n",
       "    function createElem(tag, attr, content) {\n",
       "\t// TODO: remove jQuery dependency\n",
       "\tvar el = $(\"<\" + tag + \"/>\").attr(attr);\n",
       "\tif (content) {\n",
       "\t    el.append(content);\n",
       "\t}\n",
       "\treturn el[0];\n",
       "    }\n",
       "\n",
       "    // A widget must expose an id field which identifies it to the backend,\n",
       "    // an elem attribute which is will be added to the DOM, and\n",
       "    // a getState() method which returns the value to be sent to the backend\n",
       "    // a sendUpdate() method which sends its current value to the backend\n",
       "    var Widget = {\n",
       "\tid: undefined,\n",
       "\telem: undefined,\n",
       "\tlabel: undefined,\n",
       "\tgetState: function () {\n",
       "\t    return this.elem.value;\n",
       "\t},\n",
       "\tsendUpdate: undefined\n",
       "    };\n",
       "\n",
       "    var Slider = function (typ, id, init) {\n",
       "\tvar attr = { type:  \"range\",\n",
       "\t\t     value: init.value,\n",
       "\t\t     min:   init.min,\n",
       "\t\t     max:   init.max,\n",
       "\t\t     step:  init.step },\n",
       "\t    elem = createElem(\"input\", attr),\n",
       "\t    self = this;\n",
       "\n",
       "\telem.onchange = function () {\n",
       "\t    self.sendUpdate();\n",
       "\t}\n",
       "\n",
       "\tthis.id = id;\n",
       "\tthis.elem = elem;\n",
       "\tthis.label = init.label;\n",
       "\n",
       "\tInputWidgets.commInitializer(this); // Initialize communication\n",
       "    }\n",
       "    Slider.prototype = Widget;\n",
       "\n",
       "    var Checkbox = function (typ, id, init) {\n",
       "\tvar attr = { type: \"checkbox\",\n",
       "\t\t     checked: init.value },\n",
       "\t    elem = createElem(\"input\", attr),\n",
       "\t    self = this;\n",
       "\n",
       "\tthis.getState = function () {\n",
       "\t    return elem.checked;\n",
       "\t}\n",
       "\telem.onchange = function () {\n",
       "\t    self.sendUpdate();\n",
       "\t}\n",
       "\n",
       "\tthis.id = id;\n",
       "\tthis.elem = elem;\n",
       "\tthis.label = init.label;\n",
       "\n",
       "\tInputWidgets.commInitializer(this);\n",
       "    }\n",
       "    Checkbox.prototype = Widget;\n",
       "\n",
       "    var Button = function (typ, id, init) {\n",
       "\tvar attr = { type:    \"button\",\n",
       "\t\t     value:   init.label },\n",
       "\t    elem = createElem(\"input\", attr),\n",
       "\t    self = this;\n",
       "\tthis.getState = function () {\n",
       "\t    return null;\n",
       "\t}\n",
       "\telem.onclick = function () {\n",
       "\t    self.sendUpdate();\n",
       "\t}\n",
       "\n",
       "\tthis.id = id;\n",
       "\tthis.elem = elem;\n",
       "\tthis.label = init.label;\n",
       "\n",
       "\tInputWidgets.commInitializer(this);\n",
       "    }\n",
       "    Button.prototype = Widget;\n",
       "\n",
       "    var Text = function (typ, id, init) {\n",
       "\tvar attr = { type:  \"text\",\n",
       "\t\t     placeholder: init.label,\n",
       "\t\t     value: init.value },\n",
       "\t    elem = createElem(\"input\", attr),\n",
       "\t    self = this;\n",
       "\tthis.getState = function () {\n",
       "\t    return elem.value;\n",
       "\t}\n",
       "\telem.onkeyup = function () {\n",
       "\t    self.sendUpdate();\n",
       "\t}\n",
       "\n",
       "\tthis.id = id;\n",
       "\tthis.elem = elem;\n",
       "\tthis.label = init.label;\n",
       "\n",
       "\tInputWidgets.commInitializer(this);\n",
       "    }\n",
       "    Text.prototype = Widget;\n",
       "\n",
       "    var Textarea = function (typ, id, init) {\n",
       "\tvar attr = { placeholder: init.label },\n",
       "\t    elem = createElem(\"textarea\", attr, init.value),\n",
       "\t    self = this;\n",
       "\tthis.getState = function () {\n",
       "\t    return elem.value;\n",
       "\t}\n",
       "\telem.onchange = function () {\n",
       "\t    self.sendUpdate();\n",
       "\t}\n",
       "\n",
       "\tthis.id = id;\n",
       "\tthis.elem = elem;\n",
       "\tthis.label = init.label;\n",
       "\n",
       "\tInputWidgets.commInitializer(this);\n",
       "    }\n",
       "    Textarea.prototype = Widget;\n",
       "\n",
       "    // RadioButtons\n",
       "    // Dropdown\n",
       "    // HTML\n",
       "    // Latex\n",
       "\n",
       "    var InputWidgets = {\n",
       "\tSlider: Slider,\n",
       "\tCheckbox: Checkbox,\n",
       "\tButton: Button,\n",
       "\tText: Text,\n",
       "\tTextarea: Textarea,\n",
       "\tdebug: false,\n",
       "\tlog: function () {\n",
       "\t    if (InputWidgets.debug) {\n",
       "\t\tconsole.log.apply(console, arguments);\n",
       "\t    }\n",
       "\t},\n",
       "\t// a central way to initalize communication\n",
       "\t// for widgets.\n",
       "\tcommInitializer: function (widget) {\n",
       "\t    widget.sendUpdate = function () {};\n",
       "\t}\n",
       "    };\n",
       "\n",
       "    window.InputWidgets = InputWidgets;\n",
       "\n",
       "})(jQuery, undefined);\n",
       "</script>"
      ]
     },
     "metadata": {},
     "output_type": "display_data"
    },
    {
     "data": {
      "text/html": [
       "<script charset=\"utf-8\">(function (IPython, $, _, MathJax, Widgets) {\n",
       "    $.event.special.destroyed = {\n",
       "\tremove: function(o) {\n",
       "\t    if (o.handler) {\n",
       "\t\to.handler.apply(this, arguments)\n",
       "\t    }\n",
       "\t}\n",
       "    }\n",
       "\n",
       "    var redrawValue = function (container, type, val) {\n",
       "\tvar selector = $(\"<div/>\");\n",
       "\tvar oa = new IPython.OutputArea(_.extend(selector, {\n",
       "\t    selector: selector,\n",
       "\t    prompt_area: true,\n",
       "\t    events: IPython.events,\n",
       "\t    keyboard_manager: IPython.keyboard_manager\n",
       "\t})); // Hack to work with IPython 2.1.0\n",
       "\n",
       "\tswitch (type) {\n",
       "\tcase \"image/png\":\n",
       "            var _src = 'data:' + type + ';base64,' + val;\n",
       "\t    $(container).find(\"img\").attr('src', _src);\n",
       "\t    break;\n",
       "\tdefault:\n",
       "\t    var toinsert = IPython.OutputArea.append_map[type].apply(\n",
       "\t\toa, [val, {}, selector]\n",
       "\t    );\n",
       "\t    $(container).empty().append(toinsert.contents());\n",
       "\t    selector.remove();\n",
       "\t}\n",
       "\tif (type === \"text/latex\" && MathJax) {\n",
       "\t    MathJax.Hub.Queue([\"Typeset\", MathJax.Hub, toinsert.get(0)]);\n",
       "\t}\n",
       "    }\n",
       "\n",
       "\n",
       "    $(document).ready(function() {\n",
       "\tWidgets.debug = false; // log messages etc in console.\n",
       "\tfunction initComm(evt, data) {\n",
       "\t    var comm_manager = data.kernel.comm_manager;\n",
       "        //_.extend(comm_manager.targets, require(\"widgets/js/widget\"))\n",
       "\t    comm_manager.register_target(\"Signal\", function (comm) {\n",
       "            comm.on_msg(function (msg) {\n",
       "                //Widgets.log(\"message received\", msg);\n",
       "                var val = msg.content.data.value;\n",
       "                $(\".signal-\" + comm.comm_id).each(function() {\n",
       "                var type = $(this).data(\"type\");\n",
       "                if (val[type]) {\n",
       "                    redrawValue(this, type, val[type], type);\n",
       "                }\n",
       "                });\n",
       "                delete val;\n",
       "                delete msg.content.data.value;\n",
       "            });\n",
       "\t    });\n",
       "\n",
       "\t    // coordingate with Comm and redraw Signals\n",
       "\t    // XXX: Test using Reactive here to improve performance\n",
       "\t    $([IPython.events]).on(\n",
       "\t\t'output_appended.OutputArea', function (event, type, value, md, toinsert) {\n",
       "\t\t    if (md && md.reactive) {\n",
       "                // console.log(md.comm_id);\n",
       "                toinsert.addClass(\"signal-\" + md.comm_id);\n",
       "                toinsert.data(\"type\", type);\n",
       "                // Signal back indicating the mimetype required\n",
       "                var comm_manager = IPython.notebook.kernel.comm_manager;\n",
       "                var comm = comm_manager.comms[md.comm_id];\n",
       "                comm.then(function (c) {\n",
       "                    c.send({action: \"subscribe_mime\",\n",
       "                       mime: type});\n",
       "                    toinsert.bind(\"destroyed\", function() {\n",
       "                        c.send({action: \"unsubscribe_mime\",\n",
       "                               mime: type});\n",
       "                    });\n",
       "                })\n",
       "\t\t    }\n",
       "\t    });\n",
       "\t}\n",
       "\n",
       "\ttry {\n",
       "\t    // try to initialize right away. otherwise, wait on the status_started event.\n",
       "\t    initComm(undefined, IPython.notebook);\n",
       "\t} catch (e) {\n",
       "\t    $([IPython.events]).on('status_started.Kernel', initComm);\n",
       "\t}\n",
       "    });\n",
       "})(IPython, jQuery, _, MathJax, InputWidgets);\n",
       "</script>"
      ]
     },
     "metadata": {},
     "output_type": "display_data"
    }
   ],
   "source": [
    "using Revealables\n",
    "using Markdown"
   ]
  },
  {
   "cell_type": "markdown",
   "metadata": {},
   "source": [
    "Run the cells below to generate buttons that will reveal HTML. The code cells are hidden by the [Hide Input](https://github.com/ipython-contrib/IPython-notebook-extensions/blob/3.x/usability/hide_input.js) IPython notebook extension, which is automatically installed by the Revealables package.\n",
    "\n",
    "Adding Revealables downloads a CSS file (`revealables.css`) in the same folder as your notebook profile's custom CSS.\n",
    "\n",
    "`revealables.css` has 4 defined `<div>` classes: `notes`, `example`, `hint`, and `answer`. Each has its own background color. You can edit these classes and define your own."
   ]
  },
  {
   "cell_type": "code",
   "execution_count": 31,
   "metadata": {
    "collapsed": false,
    "input_collapsed": false,
    "run_control": {
     "read_only": false
    }
   },
   "outputs": [
    {
     "data": {
      "text/plain": [
       "\"\""
      ]
     },
     "metadata": {},
     "output_type": "display_data"
    },
    {
     "data": {
      "text/html": [],
      "text/plain": [
       "Revealable(MD({Header{1}({\"Alice's Adventures in Wonderland\"}),Paragraph({\"by Lewis Carroll\"}),Header{1}({\"Chapter 1. Down the Rabbit-Hole\"}),Paragraph({\"Alice was beginning to get very tired of sitting by her sister on the   bank, and of having nothing to do: once or twice she had peeped into the   book her sister was reading, but it had no pictures or conversations in   it, 'and what is the use of a book,' thought Alice 'without pictures or   conversations?'\"}),Paragraph({\"Now for some random LaTeX: \",LaTeX(\"{a-b}\\\\over{c^{17}}\")})},Dict{Any,Any}()),\"answer\",false)"
      ]
     },
     "execution_count": 31,
     "metadata": {},
     "output_type": "execute_result"
    }
   ],
   "source": [
    "a = Revealable(md\"\"\"\n",
    "#Alice's Adventures in Wonderland\n",
    "by Lewis Carroll\n",
    "\n",
    "###Chapter 1. Down the Rabbit-Hole\n",
    "\n",
    "      Alice was beginning to get very tired of sitting by her sister on the\n",
    "      bank, and of having nothing to do: once or twice she had peeped into the\n",
    "      book her sister was reading, but it had no pictures or conversations in\n",
    "      it, 'and what is the use of a book,' thought Alice 'without pictures or\n",
    "      conversations?'\n",
    "\n",
    "      Now for some random LaTeX: ${a-b}\\over{c^{17}}$\n",
    "    \"\"\", \"answer\", false)\n"
   ]
  },
  {
   "cell_type": "code",
   "execution_count": 33,
   "metadata": {
    "collapsed": false,
    "input_collapsed": false,
    "run_control": {
     "read_only": false
    }
   },
   "outputs": [
    {
     "data": {
      "text/html": [],
      "text/plain": [
       "ToggleButton([Input{Bool}] true,\"Show/Hide Answer\",true)"
      ]
     },
     "metadata": {},
     "output_type": "display_data"
    },
    {
     "data": {
      "text/html": [
       "<div class=\"markdown\">\n",
       "<h1>Alice's Adventures in Wonderland</h1>\n",
       "<p>by Lewis Carroll</p>\n",
       "<h1>Chapter 1. Down the Rabbit-Hole</h1>\n",
       "<p>Alice was beginning to get very tired of sitting by her sister on the   bank, and of having nothing to do: once or twice she had peeped into the   book her sister was reading, but it had no pictures or conversations in   it, 'and what is the use of a book,' thought Alice 'without pictures or   conversations?'</p>\n",
       "<p>Now for some random LaTeX: ${a-b}\\over{c^{17}}$</p>\n",
       "</div>\n"
      ],
      "text/plain": [
       "# Alice's Adventures in Wonderland\n",
       "\n",
       "by Lewis Carroll\n",
       "\n",
       "# Chapter 1. Down the Rabbit-Hole\n",
       "\n",
       "Alice was beginning to get very tired of sitting by her sister on the   bank, and of having nothing to do: once or twice she had peeped into the   book her sister was reading, but it had no pictures or conversations in   it, 'and what is the use of a book,' thought Alice 'without pictures or   conversations?'\n",
       "\n",
       "Now for some random LaTeX: ${a-b}\\over{c^{17}}$\n"
      ]
     },
     "metadata": {},
     "output_type": "display_data"
    },
    {
     "data": {
      "text/html": [],
      "text/plain": [
       "Revealable(MD({Header{1}({\"Alice's Adventures in Wonderland\"}),Paragraph({\"by Lewis Carroll\"}),Header{1}({\"Chapter 1. Down the Rabbit-Hole\"}),Paragraph({\"Alice was beginning to get very tired of sitting by her sister on the   bank, and of having nothing to do: once or twice she had peeped into the   book her sister was reading, but it had no pictures or conversations in   it, 'and what is the use of a book,' thought Alice 'without pictures or   conversations?'\"}),Paragraph({\"Now for some random LaTeX: \",LaTeX(\"{a-b}\\\\over{c^{17}}\")})},Dict{Any,Any}()),\"answer\",true)"
      ]
     },
     "execution_count": 33,
     "metadata": {
      "comm_id": "8ecd7046-631e-4a51-a9f3-7e3b36ddaf2d",
      "reactive": true
     },
     "output_type": "execute_result"
    }
   ],
   "source": [
    "# Now must be in a separate cell from definition\n",
    "revealable(a)"
   ]
  },
  {
   "cell_type": "code",
   "execution_count": 6,
   "metadata": {
    "collapsed": false,
    "input_collapsed": false,
    "run_control": {
     "read_only": false
    }
   },
   "outputs": [
    {
     "data": {
      "text/plain": [
       "\"\""
      ]
     },
     "metadata": {},
     "output_type": "display_data"
    },
    {
     "data": {
      "text/html": [],
      "text/plain": [
       "Revealable(MD({Paragraph({\"<p>   So she was considering in her own mind (as well as she could, for the hot   day made her feel very sleepy and stupid), whether the pleasure of making   a daisy-chain would be worth the trouble of getting up and picking the   daisies, when suddenly a White Rabbit with pink eyes ran close by her. </p>\"})},Dict{Any,Any}()),\"example\",false)"
      ]
     },
     "execution_count": 6,
     "metadata": {},
     "output_type": "execute_result"
    }
   ],
   "source": [
    "b = Revealable(md\"\"\"\n",
    "    <p>\n",
    "      So she was considering in her own mind (as well as she could, for the hot\n",
    "      day made her feel very sleepy and stupid), whether the pleasure of making\n",
    "      a daisy-chain would be worth the trouble of getting up and picking the\n",
    "      daisies, when suddenly a White Rabbit with pink eyes ran close by her.\n",
    "    </p>\n",
    "    \"\"\", \"example\", false)"
   ]
  },
  {
   "cell_type": "code",
   "execution_count": 7,
   "metadata": {
    "collapsed": false,
    "run_control": {
     "read_only": false
    }
   },
   "outputs": [
    {
     "data": {
      "text/html": [],
      "text/plain": [
       "ToggleButton([Input{Bool}] false,\"Show/Hide Example\",false)"
      ]
     },
     "metadata": {},
     "output_type": "display_data"
    },
    {
     "data": {
      "text/plain": [
       "\"\""
      ]
     },
     "metadata": {},
     "output_type": "display_data"
    },
    {
     "data": {
      "text/html": [],
      "text/plain": [
       "Revealable(MD({Paragraph({\"<p>   So she was considering in her own mind (as well as she could, for the hot   day made her feel very sleepy and stupid), whether the pleasure of making   a daisy-chain would be worth the trouble of getting up and picking the   daisies, when suddenly a White Rabbit with pink eyes ran close by her. </p>\"})},Dict{Any,Any}()),\"example\",false)"
      ]
     },
     "execution_count": 7,
     "metadata": {
      "comm_id": "834049b0-f917-4917-aaba-c0b17d9efa6e",
      "reactive": true
     },
     "output_type": "execute_result"
    }
   ],
   "source": [
    "# Now must be in a separate cell from definition\n",
    "revealable(b)"
   ]
  },
  {
   "cell_type": "markdown",
   "metadata": {
    "input_collapsed": true
   },
   "source": [
    "If you have [Hide Input](https://github.com/ipython-contrib/IPython-notebook-extensions/blob/3.x/usability/hide_input.js) installed, the two code cells above are hidden and you can see only the buttons. You can unhide the code cells above by clicking on the chevron-up icon. If you don't have Hide Input, the code wasn't hidden in the first place.\n",
    "\n",
    "The next two code cells show two ways to create a button:"
   ]
  },
  {
   "cell_type": "code",
   "execution_count": 11,
   "metadata": {
    "collapsed": false,
    "input_collapsed": false,
    "run_control": {
     "read_only": false
    }
   },
   "outputs": [
    {
     "data": {
      "text/plain": [
       "\"\""
      ]
     },
     "metadata": {},
     "output_type": "display_data"
    },
    {
     "data": {
      "text/html": [],
      "text/plain": [
       "Revealable(MD({Paragraph({\"<p> You can use two steps to create a button: <ol><li>Create an instance of a <code>Revealable</code>, which has three fields:     <ul>     <li>HTML to display [<code>ASCIIString</code>]</li>     <li>the name of a class for use with CSS (optional) [<code>ASCIIString</code>]</li>     <li>whether or not the HTML should be displayed automatically (false by default) [<code>Bool</code>]</li>     </ul> <br /> </li> <li>run the <code>revealable</code> function to create the button.</li> </ol> </p>\"})},Dict{Any,Any}()),\"hint\",false)"
      ]
     },
     "execution_count": 11,
     "metadata": {},
     "output_type": "execute_result"
    }
   ],
   "source": [
    "\n",
    "h = Revealable(md\"\"\"\n",
    "    <p>\n",
    "    You can use two steps to create a button:\n",
    "    <ol><li>Create an instance of a <code>Revealable</code>, which has three fields:\n",
    "        <ul>\n",
    "        <li>HTML to display [<code>ASCIIString</code>]</li>\n",
    "        <li>the name of a class for use with CSS (optional) [<code>ASCIIString</code>]</li>\n",
    "        <li>whether or not the HTML should be displayed automatically (false by default) [<code>Bool</code>]</li>\n",
    "        </ul>\n",
    "    <br />\n",
    "    </li>\n",
    "    <li>run the <code>revealable</code> function to create the button.</li>\n",
    "    </ol>\n",
    "    </p>\n",
    "    \"\"\", \"hint\", false)"
   ]
  },
  {
   "cell_type": "code",
   "execution_count": 13,
   "metadata": {
    "collapsed": false
   },
   "outputs": [
    {
     "data": {
      "text/html": [],
      "text/plain": [
       "ToggleButton([Input{Bool}] true,\"Show/Hide Hint\",true)"
      ]
     },
     "metadata": {},
     "output_type": "display_data"
    },
    {
     "data": {
      "text/html": [
       "<div class=\"markdown\">\n",
       "<p><p> You can use two steps to create a button: <ol><li>Create an instance of a <code>Revealable</code>, which has three fields:     <ul>     <li>HTML to display [<code>ASCIIString</code>]</li>     <li>the name of a class for use with CSS (optional) [<code>ASCIIString</code>]</li>     <li>whether or not the HTML should be displayed automatically (false by default) [<code>Bool</code>]</li>     </ul> <br /> </li> <li>run the <code>revealable</code> function to create the button.</li> </ol> </p></p>\n",
       "</div>\n"
      ],
      "text/plain": [
       "<p> You can use two steps to create a button: <ol><li>Create an instance of a <code>Revealable</code>, which has three fields:     <ul>     <li>HTML to display [<code>ASCIIString</code>]</li>     <li>the name of a class for use with CSS (optional) [<code>ASCIIString</code>]</li>     <li>whether or not the HTML should be displayed automatically (false by default) [<code>Bool</code>]</li>     </ul> <br /> </li> <li>run the <code>revealable</code> function to create the button.</li> </ol> </p>\n"
      ]
     },
     "metadata": {},
     "output_type": "display_data"
    },
    {
     "data": {
      "text/html": [],
      "text/plain": [
       "Revealable(MD({Paragraph({\"<p> You can use two steps to create a button: <ol><li>Create an instance of a <code>Revealable</code>, which has three fields:     <ul>     <li>HTML to display [<code>ASCIIString</code>]</li>     <li>the name of a class for use with CSS (optional) [<code>ASCIIString</code>]</li>     <li>whether or not the HTML should be displayed automatically (false by default) [<code>Bool</code>]</li>     </ul> <br /> </li> <li>run the <code>revealable</code> function to create the button.</li> </ol> </p>\"})},Dict{Any,Any}()),\"hint\",true)"
      ]
     },
     "execution_count": 13,
     "metadata": {
      "comm_id": "d4d2c8c6-6a50-432d-bc00-66ea0422f586",
      "reactive": true
     },
     "output_type": "execute_result"
    }
   ],
   "source": [
    "# Now must be in a separate cell from definition\n",
    "revealable(h)"
   ]
  },
  {
   "cell_type": "code",
   "execution_count": 19,
   "metadata": {
    "collapsed": false,
    "input_collapsed": false,
    "run_control": {
     "read_only": false
    }
   },
   "outputs": [
    {
     "data": {
      "text/html": [],
      "text/plain": [
       "ToggleButton([Input{Bool}] false,\"Show/Hide Notes\",false)"
      ]
     },
     "metadata": {},
     "output_type": "display_data"
    },
    {
     "data": {
      "text/html": [
       "\n"
      ],
      "text/plain": [
       "Revealable(\"<p>\\nYou can also just run the <code>revealable</code> function \\nand pass in the same arguments as if you were instantiating \\nthe <code>Revealable</code> type. The same defaults and \\noptions apply.\\n</p>\\n\",\"notes\",false)"
      ]
     },
     "execution_count": 19,
     "metadata": {
      "comm_id": "0610b030-4ec7-4166-8ed0-96c114804c0f",
      "reactive": true
     },
     "output_type": "execute_result"
    }
   ],
   "source": [
    "# This is broken since the object's display doesn't refresh when the button is pushed\n",
    "revealable(md\"\"\"\n",
    "    <p>\n",
    "    You can also just run the <code>revealable</code> function \n",
    "    and pass in the same arguments as if you were instantiating \n",
    "    the <code>Revealable</code> type. The same defaults and \n",
    "    options apply.\n",
    "    </p>\n",
    "    \"\"\", \"notes\", false)"
   ]
  },
  {
   "cell_type": "markdown",
   "metadata": {},
   "source": [
    "###Default Values\n",
    "Since Revealables are set not to show initially, you can omit the last argument. If you do not want to set a class for the div that will display, you can also omit the second string."
   ]
  },
  {
   "cell_type": "code",
   "execution_count": 21,
   "metadata": {
    "collapsed": false,
    "run_control": {
     "read_only": false
    }
   },
   "outputs": [
    {
     "data": {
      "text/html": [],
      "text/plain": [
       "ToggleButton([Input{Bool}] false,\"Show/Hide\",false)"
      ]
     },
     "metadata": {},
     "output_type": "display_data"
    },
    {
     "data": {
      "text/html": [
       "\n"
      ],
      "text/plain": [
       "Revealable(\"<p>There is only an <font color=\\\"purple\\\">HTML argument</font> \\npassed to this function. By default, the HTML is hidden when the button\\nis produced.</p>\",\"\",false)"
      ]
     },
     "execution_count": 21,
     "metadata": {
      "comm_id": "33f8f2ae-1626-4979-bd0f-f741ca58b19b",
      "reactive": true
     },
     "output_type": "execute_result"
    }
   ],
   "source": [
    "# Again, broken\n",
    "revealable(md\"\"\"<p>There is only an <font color=\"purple\">HTML argument</font> \n",
    "    passed to this function. By default, the HTML is hidden when the button\n",
    "    is produced.</p>\"\"\")"
   ]
  },
  {
   "cell_type": "code",
   "execution_count": 24,
   "metadata": {
    "collapsed": false,
    "run_control": {
     "read_only": false
    }
   },
   "outputs": [
    {
     "data": {
      "text/html": [],
      "text/plain": [
       "ToggleButton([Input{Bool}] false,\"Show/Hide Text\",false)"
      ]
     },
     "metadata": {},
     "output_type": "display_data"
    },
    {
     "data": {
      "text/html": [
       "\n"
      ],
      "text/plain": [
       "Revealable(\"<p>The function can also take the HTML and the name of the class\\n(so you can format the &lt;div&gt; through CSS).</p>\\n<p>The name of the class shows up on the button.</p>\\n\",\"text\",false)"
      ]
     },
     "execution_count": 24,
     "metadata": {
      "comm_id": "85d87287-0f58-40f0-b7a0-05b67ed1f67f",
      "reactive": true
     },
     "output_type": "execute_result"
    }
   ],
   "source": [
    "# Again, broken\n",
    "revealable(md\"\"\"<p>The function can also take the HTML and the name of the class\n",
    "    (so you can format the &lt;div&gt; through CSS).</p>\n",
    "    <p>The name of the class shows up on the button.</p>\n",
    "    \"\"\", \"text\")"
   ]
  },
  {
   "cell_type": "markdown",
   "metadata": {},
   "source": [
    "###Limitations\n",
    "\n",
    "If put multiple buttons in one cell, only the last button will work."
   ]
  },
  {
   "cell_type": "code",
   "execution_count": 26,
   "metadata": {
    "collapsed": false,
    "run_control": {
     "read_only": false
    }
   },
   "outputs": [
    {
     "data": {
      "text/html": [],
      "text/plain": [
       "ToggleButton([Input{Bool}] false,\"Show/Hide Notes\",false)"
      ]
     },
     "metadata": {},
     "output_type": "display_data"
    },
    {
     "data": {
      "text/html": [],
      "text/plain": [
       "ToggleButton([Input{Bool}] false,\"Show/Hide Answer\",false)"
      ]
     },
     "metadata": {},
     "output_type": "display_data"
    },
    {
     "data": {
      "text/html": [],
      "text/plain": [
       "ToggleButton([Input{Bool}] false,\"Show/Hide Hint\",false)"
      ]
     },
     "metadata": {},
     "output_type": "display_data"
    },
    {
     "data": {
      "text/html": [
       "\n"
      ],
      "text/plain": [
       "Revealable(\"<p>\\nOnly the third button works! If you know how to fix this, I'd love to learn.\\n</p>\\n\",\"hint\",false)"
      ]
     },
     "execution_count": 26,
     "metadata": {
      "comm_id": "404175a4-2b4b-4684-9b23-dbba2f205ce7",
      "reactive": true
     },
     "output_type": "execute_result"
    }
   ],
   "source": [
    "revealable(md\"\"\"\n",
    "    <p>\n",
    "    The first button won't work.\n",
    "    </p>\n",
    "    \"\"\", \"notes\", false)\n",
    "\n",
    "revealable(md\"\"\"\n",
    "    <p>\n",
    "    The second button won't work.\n",
    "    </p>\n",
    "    \"\"\", \"answer\", false)\n",
    "\n",
    "revealable(md\"\"\"\n",
    "    <p>\n",
    "    Only the third button works! If you know how to fix this, I'd love to learn.\n",
    "    </p>\n",
    "    \"\"\", \"hint\", false)"
   ]
  },
  {
   "cell_type": "code",
   "execution_count": 7,
   "metadata": {
    "collapsed": true,
    "run_control": {
     "read_only": false
    }
   },
   "outputs": [],
   "source": [
    "# TODO\n",
    "# Create methods to make markdown content from just strings"
   ]
  },
  {
   "cell_type": "code",
   "execution_count": null,
   "metadata": {
    "collapsed": true,
    "run_control": {
     "read_only": false
    }
   },
   "outputs": [],
   "source": []
  },
  {
   "cell_type": "code",
   "execution_count": null,
   "metadata": {
    "collapsed": true,
    "run_control": {
     "read_only": false
    }
   },
   "outputs": [],
   "source": []
  },
  {
   "cell_type": "code",
   "execution_count": null,
   "metadata": {
    "collapsed": true,
    "run_control": {
     "read_only": false
    }
   },
   "outputs": [],
   "source": []
  }
 ],
 "metadata": {
  "kernelspec": {
   "display_name": "Julia 0.3.9",
   "language": "julia",
   "name": "julia-0.3"
  },
  "language_info": {
   "name": "julia",
   "version": "0.3.9"
  }
 },
 "nbformat": 4,
 "nbformat_minor": 0
}
