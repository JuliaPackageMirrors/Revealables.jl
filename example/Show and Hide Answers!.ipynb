{
 "cells": [
  {
   "cell_type": "code",
   "execution_count": 19,
   "metadata": {
    "collapsed": false,
    "input_collapsed": false,
    "run_control": {
     "read_only": false
    }
   },
   "outputs": [],
   "source": [
    "using Revealables\n",
    "using Reactive\n",
    "using Interact"
   ]
  },
  {
   "cell_type": "markdown",
   "metadata": {},
   "source": [
    "Run the cells below to generate buttons that will reveal HTML. The code cells are hidden by the [Hide Input](https://github.com/ipython-contrib/IPython-notebook-extensions/blob/3.x/usability/hide_input.js) IPython notebook extension, which is automatically installed by the Revealables package.\n",
    "\n",
    "Adding Revealables downloads a CSS file (`revealables.css`) in the same folder as your notebook profile's custom CSS.\n",
    "\n",
    "`revealables.css` has 4 defined `<div>` classes: `notes`, `example`, `hint`, and `answer`. Each has its own background color. You can edit these classes and define your own."
   ]
  },
  {
   "cell_type": "code",
   "execution_count": 20,
   "metadata": {
    "collapsed": false,
    "input_collapsed": true,
    "run_control": {
     "read_only": false
    }
   },
   "outputs": [
    {
     "data": {
      "text/html": [],
      "text/plain": [
       "ToggleButton([Input{Bool}] false,\"Show/Hide Answer\",false)"
      ]
     },
     "metadata": {},
     "output_type": "display_data"
    },
    {
     "data": {
      "text/html": [
       "\n"
      ],
      "text/plain": [
       "Revealable(false,\"answer\",\"<h2>Alice's Adventures in Wonderland</h2>\\n<p>by Lewis Carroll</p>\\n<h3>Chapter 1. Down the Rabbit-Hole</h3>\\n<p>\\nAlice was beginning to get very tired of sitting by her sister on the\\nbank, and of having nothing to do: once or twice she had peeped into the\\nbook her sister was reading, but it had no pictures or conversations in\\nit, 'and what is the use of a book,' thought Alice 'without pictures or\\nconversations?'\\n</p>\\n\")"
      ]
     },
     "execution_count": 20,
     "metadata": {
      "comm_id": "4d8f5409-2fe3-4707-8f17-86ccc3b783f8",
      "reactive": true
     },
     "output_type": "execute_result"
    }
   ],
   "source": [
    "revealable(false, \"answer\", \"\"\"\n",
    "<h2>Alice's Adventures in Wonderland</h2>\n",
    "<p>by Lewis Carroll</p>\n",
    "<h3>Chapter 1. Down the Rabbit-Hole</h3>\n",
    "    <p>\n",
    "      Alice was beginning to get very tired of sitting by her sister on the\n",
    "      bank, and of having nothing to do: once or twice she had peeped into the\n",
    "      book her sister was reading, but it had no pictures or conversations in\n",
    "      it, 'and what is the use of a book,' thought Alice 'without pictures or\n",
    "      conversations?'\n",
    "    </p>\n",
    "        \"\"\")"
   ]
  },
  {
   "cell_type": "code",
   "execution_count": 8,
   "metadata": {
    "collapsed": false,
    "input_collapsed": true,
    "run_control": {
     "read_only": false
    }
   },
   "outputs": [
    {
     "data": {
      "text/html": [],
      "text/plain": [
       "ToggleButton([Input{Bool}] false,\"Show/Hide Example\",false)"
      ]
     },
     "metadata": {},
     "output_type": "display_data"
    },
    {
     "data": {
      "text/html": [
       "\n"
      ],
      "text/plain": [
       "Revealable(false,\"example\",\"<p>\\n  So she was considering in her own mind (as well as she could, for the hot\\n  day made her feel very sleepy and stupid), whether the pleasure of making\\n  a daisy-chain would be worth the trouble of getting up and picking the\\n  daisies, when suddenly a White Rabbit with pink eyes ran close by her.\\n</p>\\n\")"
      ]
     },
     "execution_count": 8,
     "metadata": {
      "comm_id": "2d4571c3-946b-47a8-b2ae-5425397e14e1",
      "reactive": true
     },
     "output_type": "execute_result"
    }
   ],
   "source": [
    "revealable(false, \"example\", \"\"\"\n",
    "    <p>\n",
    "      So she was considering in her own mind (as well as she could, for the hot\n",
    "      day made her feel very sleepy and stupid), whether the pleasure of making\n",
    "      a daisy-chain would be worth the trouble of getting up and picking the\n",
    "      daisies, when suddenly a White Rabbit with pink eyes ran close by her.\n",
    "    </p>\n",
    "    \"\"\")"
   ]
  },
  {
   "cell_type": "markdown",
   "metadata": {
    "input_collapsed": true
   },
   "source": [
    "If you have [Hide Input](https://github.com/ipython-contrib/IPython-notebook-extensions/blob/3.x/usability/hide_input.js) installed, the two code cells above are hidden and you can see only the buttons. You can unhide the code cells above by clicking on the chevron-up icon. If you don't have Hide Input, they weren't hidden in the first place. \n",
    "\n",
    "The next two code cells show two ways to create a button:"
   ]
  },
  {
   "cell_type": "code",
   "execution_count": 21,
   "metadata": {
    "collapsed": false,
    "input_collapsed": false,
    "run_control": {
     "read_only": false
    }
   },
   "outputs": [
    {
     "data": {
      "text/html": [],
      "text/plain": [
       "ToggleButton([Input{Bool}] false,\"Show/Hide Hint\",false)"
      ]
     },
     "metadata": {},
     "output_type": "display_data"
    },
    {
     "data": {
      "text/html": [
       "\n"
      ],
      "text/plain": [
       "Revealable(false,\"hint\",\"<p>\\n  There was nothing so <em>very</em> remarkable in that; nor did Alice think it so\\n  <em>very</em> much out of the way to hear the Rabbit say to itself, 'Oh dear! Oh\\n  dear! I shall be late!' (when she thought it over afterwards, it occurred\\n  to her that she ought to have wondered at this, but at the time it all\\n  seemed quite natural); but when the Rabbit actually <em>took a watch out of\\n  its waistcoat-pocket</em>, and looked at it, and then hurried on, Alice started\\n  to her feet, for it flashed across her mind that she had never before seen\\n  a rabbit with either a waistcoat-pocket, or a watch to take out of it, and\\n  burning with curiosity, she ran across the field after it, and fortunately\\n  was just in time to see it pop down a large rabbit-hole under the hedge.\\n</p>\\n\")"
      ]
     },
     "execution_count": 21,
     "metadata": {
      "comm_id": "d11c10b5-3b9c-4676-b6b2-6640def177a0",
      "reactive": true
     },
     "output_type": "execute_result"
    }
   ],
   "source": [
    "h = Revealable(false, \"hint\", \"\"\"\n",
    "    <p>\n",
    "      There was nothing so <em>very</em> remarkable in that; nor did Alice think it so\n",
    "      <em>very</em> much out of the way to hear the Rabbit say to itself, 'Oh dear! Oh\n",
    "      dear! I shall be late!' (when she thought it over afterwards, it occurred\n",
    "      to her that she ought to have wondered at this, but at the time it all\n",
    "      seemed quite natural); but when the Rabbit actually <em>took a watch out of\n",
    "      its waistcoat-pocket</em>, and looked at it, and then hurried on, Alice started\n",
    "      to her feet, for it flashed across her mind that she had never before seen\n",
    "      a rabbit with either a waistcoat-pocket, or a watch to take out of it, and\n",
    "      burning with curiosity, she ran across the field after it, and fortunately\n",
    "      was just in time to see it pop down a large rabbit-hole under the hedge.\n",
    "    </p>\n",
    "    \"\"\")\n",
    "\n",
    "revealable(h)"
   ]
  },
  {
   "cell_type": "code",
   "execution_count": 15,
   "metadata": {
    "collapsed": false,
    "input_collapsed": false,
    "run_control": {
     "read_only": false
    }
   },
   "outputs": [
    {
     "data": {
      "text/html": [],
      "text/plain": [
       "ToggleButton([Input{Bool}] false,\"Show/Hide Notes\",false)"
      ]
     },
     "metadata": {},
     "output_type": "display_data"
    },
    {
     "data": {
      "text/html": [
       "\n"
      ],
      "text/plain": [
       "Revealable(false,\"notes\",\"<p>\\n  In another moment down went Alice after it, never once considering how in\\n  the world she was to get out again.\\n</p>\\n<p>\\n  The rabbit-hole went straight on like a tunnel for some way, and then\\n  dipped suddenly down, so suddenly that Alice had not a moment to think\\n  about stopping herself before she found herself falling down a very deep\\n  well.\\n</p>\\n\")"
      ]
     },
     "execution_count": 15,
     "metadata": {
      "comm_id": "fd2c88fe-9f83-4818-b930-feedc9ca25fd",
      "reactive": true
     },
     "output_type": "execute_result"
    }
   ],
   "source": [
    "revealable(false, \"notes\", \"\"\"\n",
    "    <p>\n",
    "      In another moment down went Alice after it, never once considering how in\n",
    "      the world she was to get out again.\n",
    "    </p>\n",
    "    <p>\n",
    "      The rabbit-hole went straight on like a tunnel for some way, and then\n",
    "      dipped suddenly down, so suddenly that Alice had not a moment to think\n",
    "      about stopping herself before she found herself falling down a very deep\n",
    "      well.\n",
    "    </p>\n",
    "    \"\"\")"
   ]
  },
  {
   "cell_type": "markdown",
   "metadata": {},
   "source": [
    "###Limitations\n",
    "\n",
    "If put multiple buttons in one cell, only the last button will work."
   ]
  },
  {
   "cell_type": "code",
   "execution_count": 23,
   "metadata": {
    "collapsed": false,
    "run_control": {
     "read_only": false
    }
   },
   "outputs": [
    {
     "data": {
      "text/html": [],
      "text/plain": [
       "ToggleButton([Input{Bool}] false,\"Show/Hide Notes\",false)"
      ]
     },
     "metadata": {},
     "output_type": "display_data"
    },
    {
     "data": {
      "text/html": [],
      "text/plain": [
       "ToggleButton([Input{Bool}] false,\"Show/Hide Answer\",false)"
      ]
     },
     "metadata": {},
     "output_type": "display_data"
    },
    {
     "data": {
      "text/html": [],
      "text/plain": [
       "ToggleButton([Input{Bool}] false,\"Show/Hide Hint\",false)"
      ]
     },
     "metadata": {},
     "output_type": "display_data"
    },
    {
     "data": {
      "text/html": [
       "\n"
      ],
      "text/plain": [
       "Revealable(false,\"hint\",\"<p>\\n  Down, down, down. Would the fall <em>never</em> come to an end! 'I wonder how many\\n  miles I've fallen by this time?' she said aloud. 'I must be getting\\n  somewhere near the centre of the earth. Let me see: that would be four\\n  thousand miles down, I think&mdash;' (for, you see, Alice had learnt\\n  several things of this sort in her lessons in the schoolroom, and though\\n  this was not a <em>very</em> good opportunity for showing off her knowledge, as\\n  there was no one to listen to her, still it was good practice to say it\\n  over) '&mdash;yes, that's about the right distance&mdash;but then I wonder\\n  what Latitude or Longitude I've got to?' (Alice had no idea what Latitude\\n  was, or Longitude either, but thought they were nice grand words to say.)\\n</p>\\n\")"
      ]
     },
     "execution_count": 23,
     "metadata": {
      "comm_id": "0c347223-de48-499c-935b-0cb4d060b50a",
      "reactive": true
     },
     "output_type": "execute_result"
    }
   ],
   "source": [
    "revealable(false, \"notes\", \"\"\"\n",
    "    <p>\n",
    "      Either the well was very deep, or she fell very slowly, for she had plenty\n",
    "      of time as she went down to look about her and to wonder what was going to\n",
    "      happen next. First, she tried to look down and make out what she was\n",
    "      coming to, but it was too dark to see anything; then she looked at the\n",
    "      sides of the well, and noticed that they were filled with cupboards and\n",
    "      book-shelves; here and there she saw maps and pictures hung upon pegs. She\n",
    "      took down a jar from one of the shelves as she passed; it was labelled\n",
    "      'ORANGE MARMALADE', but to her great disappointment it was empty: she did\n",
    "      not like to drop the jar for fear of killing somebody, so managed to put\n",
    "      it into one of the cupboards as she fell past it.\n",
    "    </p>\n",
    "    \"\"\")\n",
    "\n",
    "revealable(false, \"answer\", \"\"\"\n",
    "    <p>\n",
    "      'Well!' thought Alice to herself, 'after such a fall as this, I shall\n",
    "      think nothing of tumbling down stairs! How brave they'll all think me at\n",
    "      home! Why, I wouldn't say anything about it, even if I fell off the top of\n",
    "      the house!' (Which was very likely true.)\n",
    "    </p>\n",
    "    \"\"\")\n",
    "\n",
    "revealable(false, \"hint\", \"\"\"\n",
    "    <p>\n",
    "      Down, down, down. Would the fall <em>never</em> come to an end! 'I wonder how many\n",
    "      miles I've fallen by this time?' she said aloud. 'I must be getting\n",
    "      somewhere near the centre of the earth. Let me see: that would be four\n",
    "      thousand miles down, I think&mdash;' (for, you see, Alice had learnt\n",
    "      several things of this sort in her lessons in the schoolroom, and though\n",
    "      this was not a <em>very</em> good opportunity for showing off her knowledge, as\n",
    "      there was no one to listen to her, still it was good practice to say it\n",
    "      over) '&mdash;yes, that's about the right distance&mdash;but then I wonder\n",
    "      what Latitude or Longitude I've got to?' (Alice had no idea what Latitude\n",
    "      was, or Longitude either, but thought they were nice grand words to say.)\n",
    "    </p>\n",
    "    \"\"\")"
   ]
  },
  {
   "cell_type": "code",
   "execution_count": 24,
   "metadata": {
    "collapsed": true,
    "run_control": {
     "read_only": false
    }
   },
   "outputs": [],
   "source": [
    "#TODO\n",
    "#Revealable\"Note: \" --> something like L_str"
   ]
  }
 ],
 "metadata": {
  "kernelspec": {
   "display_name": "Julia 0.3.9",
   "language": "julia",
   "name": "julia-0.3"
  },
  "language_info": {
   "name": "julia",
   "version": "0.3.9"
  }
 },
 "nbformat": 4,
 "nbformat_minor": 0
}
