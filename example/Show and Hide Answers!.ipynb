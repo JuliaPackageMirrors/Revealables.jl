{
 "cells": [
  {
   "cell_type": "code",
   "execution_count": 1,
   "metadata": {
    "collapsed": false,
    "input_collapsed": false,
    "run_control": {
     "read_only": false
    }
   },
   "outputs": [
    {
     "data": {
      "text/html": [
       "<script charset=\"utf-8\">(function ($, undefined) {\n",
       "\n",
       "    function createElem(tag, attr, content) {\n",
       "\t// TODO: remove jQuery dependency\n",
       "\tvar el = $(\"<\" + tag + \"/>\").attr(attr);\n",
       "\tif (content) {\n",
       "\t    el.append(content);\n",
       "\t}\n",
       "\treturn el[0];\n",
       "    }\n",
       "\n",
       "    // A widget must expose an id field which identifies it to the backend,\n",
       "    // an elem attribute which is will be added to the DOM, and\n",
       "    // a getState() method which returns the value to be sent to the backend\n",
       "    // a sendUpdate() method which sends its current value to the backend\n",
       "    var Widget = {\n",
       "\tid: undefined,\n",
       "\telem: undefined,\n",
       "\tlabel: undefined,\n",
       "\tgetState: function () {\n",
       "\t    return this.elem.value;\n",
       "\t},\n",
       "\tsendUpdate: undefined\n",
       "    };\n",
       "\n",
       "    var Slider = function (typ, id, init) {\n",
       "\tvar attr = { type:  \"range\",\n",
       "\t\t     value: init.value,\n",
       "\t\t     min:   init.min,\n",
       "\t\t     max:   init.max,\n",
       "\t\t     step:  init.step },\n",
       "\t    elem = createElem(\"input\", attr),\n",
       "\t    self = this;\n",
       "\n",
       "\telem.onchange = function () {\n",
       "\t    self.sendUpdate();\n",
       "\t}\n",
       "\n",
       "\tthis.id = id;\n",
       "\tthis.elem = elem;\n",
       "\tthis.label = init.label;\n",
       "\n",
       "\tInputWidgets.commInitializer(this); // Initialize communication\n",
       "    }\n",
       "    Slider.prototype = Widget;\n",
       "\n",
       "    var Checkbox = function (typ, id, init) {\n",
       "\tvar attr = { type: \"checkbox\",\n",
       "\t\t     checked: init.value },\n",
       "\t    elem = createElem(\"input\", attr),\n",
       "\t    self = this;\n",
       "\n",
       "\tthis.getState = function () {\n",
       "\t    return elem.checked;\n",
       "\t}\n",
       "\telem.onchange = function () {\n",
       "\t    self.sendUpdate();\n",
       "\t}\n",
       "\n",
       "\tthis.id = id;\n",
       "\tthis.elem = elem;\n",
       "\tthis.label = init.label;\n",
       "\n",
       "\tInputWidgets.commInitializer(this);\n",
       "    }\n",
       "    Checkbox.prototype = Widget;\n",
       "\n",
       "    var Button = function (typ, id, init) {\n",
       "\tvar attr = { type:    \"button\",\n",
       "\t\t     value:   init.label },\n",
       "\t    elem = createElem(\"input\", attr),\n",
       "\t    self = this;\n",
       "\tthis.getState = function () {\n",
       "\t    return null;\n",
       "\t}\n",
       "\telem.onclick = function () {\n",
       "\t    self.sendUpdate();\n",
       "\t}\n",
       "\n",
       "\tthis.id = id;\n",
       "\tthis.elem = elem;\n",
       "\tthis.label = init.label;\n",
       "\n",
       "\tInputWidgets.commInitializer(this);\n",
       "    }\n",
       "    Button.prototype = Widget;\n",
       "\n",
       "    var Text = function (typ, id, init) {\n",
       "\tvar attr = { type:  \"text\",\n",
       "\t\t     placeholder: init.label,\n",
       "\t\t     value: init.value },\n",
       "\t    elem = createElem(\"input\", attr),\n",
       "\t    self = this;\n",
       "\tthis.getState = function () {\n",
       "\t    return elem.value;\n",
       "\t}\n",
       "\telem.onkeyup = function () {\n",
       "\t    self.sendUpdate();\n",
       "\t}\n",
       "\n",
       "\tthis.id = id;\n",
       "\tthis.elem = elem;\n",
       "\tthis.label = init.label;\n",
       "\n",
       "\tInputWidgets.commInitializer(this);\n",
       "    }\n",
       "    Text.prototype = Widget;\n",
       "\n",
       "    var Textarea = function (typ, id, init) {\n",
       "\tvar attr = { placeholder: init.label },\n",
       "\t    elem = createElem(\"textarea\", attr, init.value),\n",
       "\t    self = this;\n",
       "\tthis.getState = function () {\n",
       "\t    return elem.value;\n",
       "\t}\n",
       "\telem.onchange = function () {\n",
       "\t    self.sendUpdate();\n",
       "\t}\n",
       "\n",
       "\tthis.id = id;\n",
       "\tthis.elem = elem;\n",
       "\tthis.label = init.label;\n",
       "\n",
       "\tInputWidgets.commInitializer(this);\n",
       "    }\n",
       "    Textarea.prototype = Widget;\n",
       "\n",
       "    // RadioButtons\n",
       "    // Dropdown\n",
       "    // HTML\n",
       "    // Latex\n",
       "\n",
       "    var InputWidgets = {\n",
       "\tSlider: Slider,\n",
       "\tCheckbox: Checkbox,\n",
       "\tButton: Button,\n",
       "\tText: Text,\n",
       "\tTextarea: Textarea,\n",
       "\tdebug: false,\n",
       "\tlog: function () {\n",
       "\t    if (InputWidgets.debug) {\n",
       "\t\tconsole.log.apply(console, arguments);\n",
       "\t    }\n",
       "\t},\n",
       "\t// a central way to initalize communication\n",
       "\t// for widgets.\n",
       "\tcommInitializer: function (widget) {\n",
       "\t    widget.sendUpdate = function () {};\n",
       "\t}\n",
       "    };\n",
       "\n",
       "    window.InputWidgets = InputWidgets;\n",
       "\n",
       "})(jQuery, undefined);\n",
       "</script>"
      ]
     },
     "metadata": {},
     "output_type": "display_data"
    },
    {
     "data": {
      "text/html": [
       "<script charset=\"utf-8\">(function (IPython, $, _, MathJax, Widgets) {\n",
       "    $.event.special.destroyed = {\n",
       "\tremove: function(o) {\n",
       "\t    if (o.handler) {\n",
       "\t\to.handler.apply(this, arguments)\n",
       "\t    }\n",
       "\t}\n",
       "    }\n",
       "\n",
       "    var redrawValue = function (container, type, val) {\n",
       "\tvar selector = $(\"<div/>\");\n",
       "\tvar oa = new IPython.OutputArea(_.extend(selector, {\n",
       "\t    selector: selector,\n",
       "\t    prompt_area: true,\n",
       "\t    events: IPython.events,\n",
       "\t    keyboard_manager: IPython.keyboard_manager\n",
       "\t})); // Hack to work with IPython 2.1.0\n",
       "\n",
       "\tswitch (type) {\n",
       "\tcase \"image/png\":\n",
       "            var _src = 'data:' + type + ';base64,' + val;\n",
       "\t    $(container).find(\"img\").attr('src', _src);\n",
       "\t    break;\n",
       "\tdefault:\n",
       "\t    var toinsert = IPython.OutputArea.append_map[type].apply(\n",
       "\t\toa, [val, {}, selector]\n",
       "\t    );\n",
       "\t    $(container).empty().append(toinsert.contents());\n",
       "\t    selector.remove();\n",
       "\t}\n",
       "\tif (type === \"text/latex\" && MathJax) {\n",
       "\t    MathJax.Hub.Queue([\"Typeset\", MathJax.Hub, toinsert.get(0)]);\n",
       "\t}\n",
       "    }\n",
       "\n",
       "\n",
       "    $(document).ready(function() {\n",
       "\tWidgets.debug = false; // log messages etc in console.\n",
       "\tfunction initComm(evt, data) {\n",
       "\t    var comm_manager = data.kernel.comm_manager;\n",
       "        //_.extend(comm_manager.targets, require(\"widgets/js/widget\"))\n",
       "\t    comm_manager.register_target(\"Signal\", function (comm) {\n",
       "            comm.on_msg(function (msg) {\n",
       "                //Widgets.log(\"message received\", msg);\n",
       "                var val = msg.content.data.value;\n",
       "                $(\".signal-\" + comm.comm_id).each(function() {\n",
       "                var type = $(this).data(\"type\");\n",
       "                if (val[type]) {\n",
       "                    redrawValue(this, type, val[type], type);\n",
       "                }\n",
       "                });\n",
       "                delete val;\n",
       "                delete msg.content.data.value;\n",
       "            });\n",
       "\t    });\n",
       "\n",
       "\t    // coordingate with Comm and redraw Signals\n",
       "\t    // XXX: Test using Reactive here to improve performance\n",
       "\t    $([IPython.events]).on(\n",
       "\t\t'output_appended.OutputArea', function (event, type, value, md, toinsert) {\n",
       "\t\t    if (md && md.reactive) {\n",
       "                // console.log(md.comm_id);\n",
       "                toinsert.addClass(\"signal-\" + md.comm_id);\n",
       "                toinsert.data(\"type\", type);\n",
       "                // Signal back indicating the mimetype required\n",
       "                var comm_manager = IPython.notebook.kernel.comm_manager;\n",
       "                var comm = comm_manager.comms[md.comm_id];\n",
       "                comm.then(function (c) {\n",
       "                    c.send({action: \"subscribe_mime\",\n",
       "                       mime: type});\n",
       "                    toinsert.bind(\"destroyed\", function() {\n",
       "                        c.send({action: \"unsubscribe_mime\",\n",
       "                               mime: type});\n",
       "                    });\n",
       "                })\n",
       "\t\t    }\n",
       "\t    });\n",
       "\t}\n",
       "\n",
       "\ttry {\n",
       "\t    // try to initialize right away. otherwise, wait on the status_started event.\n",
       "\t    initComm(undefined, IPython.notebook);\n",
       "\t} catch (e) {\n",
       "\t    $([IPython.events]).on('status_started.Kernel', initComm);\n",
       "\t}\n",
       "    });\n",
       "})(IPython, jQuery, _, MathJax, InputWidgets);\n",
       "</script>"
      ]
     },
     "metadata": {},
     "output_type": "display_data"
    }
   ],
   "source": [
    "using Revealables"
   ]
  },
  {
   "cell_type": "markdown",
   "metadata": {},
   "source": [
    "Run the cells below to generate buttons that will reveal HTML. The code cells are hidden by the [Hide Input](https://github.com/ipython-contrib/IPython-notebook-extensions/blob/3.x/usability/hide_input.js) IPython notebook extension, which is automatically installed by the Revealables package."
   ]
  },
  {
   "cell_type": "code",
   "execution_count": 2,
   "metadata": {
    "collapsed": false,
    "input_collapsed": true,
    "run_control": {
     "read_only": false
    }
   },
   "outputs": [
    {
     "data": {
      "text/html": [],
      "text/plain": [
       "ToggleButton([Input{Bool}] false,\"Click this button!\",false)"
      ]
     },
     "metadata": {},
     "output_type": "display_data"
    },
    {
     "data": {
      "text/markdown": [
       "\n"
      ],
      "text/plain": [
       "Revealable(\"#Revealables.jl\\nHide and reveal text with the click of a button\\n\",\"Click this button!\",false,false)"
      ]
     },
     "execution_count": 2,
     "metadata": {
      "comm_id": "3fcbedd5-973b-49cb-8aa1-d63be774acf1",
      "reactive": true
     },
     "output_type": "execute_result"
    }
   ],
   "source": [
    "revealable(\"\"\"\n",
    "#Revealables.jl\n",
    "Hide and reveal text with the click of a button\n",
    "\"\"\", \"Click this button!\", false)"
   ]
  },
  {
   "cell_type": "markdown",
   "metadata": {
    "input_collapsed": true
   },
   "source": [
    "If you have [Hide Input](https://github.com/ipython-contrib/IPython-notebook-extensions/blob/3.x/usability/hide_input.js) installed, the code cell above is hidden and you can see only the button. You can unhide the code cells above by clicking on the chevron-up icon. (If you don't have the Hide Input extension, the code wasn't hidden in the first place.)\n",
    "\n",
    "##Creating Revealables"
   ]
  },
  {
   "cell_type": "code",
   "execution_count": 3,
   "metadata": {
    "collapsed": false,
    "input_collapsed": false,
    "run_control": {
     "read_only": false
    }
   },
   "outputs": [
    {
     "data": {
      "text/html": [],
      "text/plain": [
       "ToggleButton([Input{Bool}] false,\"This is the button's label\",false)"
      ]
     },
     "metadata": {},
     "output_type": "display_data"
    },
    {
     "data": {
      "text/markdown": [
       "\n"
      ],
      "text/plain": [
       "Revealable(\"You can use two steps to create a button:\\n1. Create an instance of a <code>Revealable</code>, which has three fields:\\n   * Markdown (which can include HTML) to display [<code>ASCIIString</code>]\\n   * the label to use on a button [<code>ASCIIString</code>]\\n   * whether or not the Markdown should be displayed automatically (`false` by default) [<code>Bool</code>]\\n2. run the <code>revealable</code> function to create the button.\\n\",\"This is the button's label\",false,false)"
      ]
     },
     "execution_count": 3,
     "metadata": {
      "comm_id": "66101b2e-bee1-4b06-aeb6-c03f020d9754",
      "reactive": true
     },
     "output_type": "execute_result"
    }
   ],
   "source": [
    "h = Revealable(\"\"\"\n",
    "You can use two steps to create a button:\n",
    "1. Create an instance of a <code>Revealable</code>, which has three fields:\n",
    "   * Markdown (which can include HTML) to display [<code>ASCIIString</code>]\n",
    "   * the label to use on a button [<code>ASCIIString</code>]\n",
    "   * whether or not the Markdown should be displayed automatically (`false` by default) [<code>Bool</code>]\n",
    "2. run the <code>revealable</code> function to create the button.\n",
    "\"\"\", \"This is the button's label\", false)\n",
    "\n",
    "revealable(h)"
   ]
  },
  {
   "cell_type": "code",
   "execution_count": 4,
   "metadata": {
    "collapsed": false,
    "input_collapsed": false,
    "run_control": {
     "read_only": false
    }
   },
   "outputs": [
    {
     "data": {
      "text/html": [],
      "text/plain": [
       "ToggleButton([Input{Bool}] false,\"Another Button!\",false)"
      ]
     },
     "metadata": {},
     "output_type": "display_data"
    },
    {
     "data": {
      "text/markdown": [
       "\n"
      ],
      "text/plain": [
       "Revealable(\"You can also just run the <code>revealable</code> function \\nand pass in the same arguments as if you were instantiating \\nthe <code>Revealable</code> type. The same defaults and \\noptions apply.\\n\",\"Another Button!\",false,false)"
      ]
     },
     "execution_count": 4,
     "metadata": {
      "comm_id": "78c7323d-3b42-469a-adfb-bdbf59540192",
      "reactive": true
     },
     "output_type": "execute_result"
    }
   ],
   "source": [
    "revealable(\"\"\"\n",
    "You can also just run the <code>revealable</code> function \n",
    "and pass in the same arguments as if you were instantiating \n",
    "the <code>Revealable</code> type. The same defaults and \n",
    "options apply.\n",
    "\"\"\", \"Another Button!\", false)"
   ]
  },
  {
   "cell_type": "code",
   "execution_count": 5,
   "metadata": {
    "collapsed": false,
    "run_control": {
     "read_only": false
    }
   },
   "outputs": [
    {
     "data": {
      "text/html": [],
      "text/plain": [
       "ToggleButton([Input{Bool}] false,\"Interpolate Variables\",false)"
      ]
     },
     "metadata": {},
     "output_type": "display_data"
    },
    {
     "data": {
      "text/markdown": [
       "\n"
      ],
      "text/plain": [
       "Revealable(\"You can include variables in your Revealable by using normal\\nJulia string interpolation. This is an interpolated string! <font color=blue>This string includes HTML.</font> You have to escape the characters\\n\\\", \\$, \\\\, \\\\*, and # as shown in the code.\\n\",\"Interpolate Variables\",false,false)"
      ]
     },
     "execution_count": 5,
     "metadata": {
      "comm_id": "e3ec7399-6945-4531-b960-bf7a320bd990",
      "reactive": true
     },
     "output_type": "execute_result"
    }
   ],
   "source": [
    "variable = \"This is an interpolated string!\"\n",
    "\n",
    "formatted = \"<font color=blue>This string includes HTML.</font>\"\n",
    "\n",
    "revealable(\"\"\"\n",
    "You can include variables in your Revealable by using normal\n",
    "Julia string interpolation. $variable $formatted You have to escape the characters\n",
    "\\\", \\$, \\\\, \\\\\\*, and \\# as shown in the code.\n",
    "\"\"\", \"Interpolate Variables\", false)"
   ]
  },
  {
   "cell_type": "markdown",
   "metadata": {},
   "source": [
    "###Default Values\n",
    "Since Revealables are set not to show initially, you can omit the last argument. If you do not want to set your own label for the button, you can also omit the second string."
   ]
  },
  {
   "cell_type": "code",
   "execution_count": 6,
   "metadata": {
    "collapsed": false,
    "run_control": {
     "read_only": false
    }
   },
   "outputs": [
    {
     "data": {
      "text/html": [],
      "text/plain": [
       "ToggleButton([Input{Bool}] false,\"Show/Hide\",false)"
      ]
     },
     "metadata": {},
     "output_type": "display_data"
    },
    {
     "data": {
      "text/markdown": [
       "\n"
      ],
      "text/plain": [
       "Revealable(\"There is only an <font color=\\\"purple\\\">ASCIIString argument</font> \\npassed to this function. The string will be displayed as Markdown, \\nwhich can handle many HTML tags.\",\"Show/Hide\",false,false)"
      ]
     },
     "execution_count": 6,
     "metadata": {
      "comm_id": "e4e48bbd-82a2-4661-930a-1966df510498",
      "reactive": true
     },
     "output_type": "execute_result"
    }
   ],
   "source": [
    "revealable(\"\"\"There is only an <font color=\"purple\">ASCIIString argument</font> \n",
    "passed to this function. The string will be displayed as Markdown, \n",
    "which can handle many HTML tags.\"\"\")"
   ]
  },
  {
   "cell_type": "code",
   "execution_count": 7,
   "metadata": {
    "collapsed": false,
    "run_control": {
     "read_only": false
    }
   },
   "outputs": [
    {
     "data": {
      "text/html": [],
      "text/plain": [
       "ToggleButton([Input{Bool}] false,\"Show/Hide\",false)"
      ]
     },
     "metadata": {},
     "output_type": "display_data"
    },
    {
     "data": {
      "text/markdown": [
       "\n"
      ],
      "text/plain": [
       "Revealable(\"In addition to including HTML and Markdown, you can\\nformat your text through CSS classes. That will require you to\\ndefine new classes in your custom.css file.\",\"Show/Hide\",false,false)"
      ]
     },
     "execution_count": 7,
     "metadata": {
      "comm_id": "00172cbc-3b55-4bb2-8c9e-ea6bf1fdb741",
      "reactive": true
     },
     "output_type": "execute_result"
    }
   ],
   "source": [
    "revealable(\"\"\"In addition to including HTML and Markdown, you can\n",
    "format your text through CSS classes. That will require you to\n",
    "define new classes in your custom.css file.\"\"\")"
   ]
  },
  {
   "cell_type": "markdown",
   "metadata": {},
   "source": [
    "##Encoding and Decoding Revealables"
   ]
  },
  {
   "cell_type": "code",
   "execution_count": 8,
   "metadata": {
    "collapsed": false
   },
   "outputs": [
    {
     "data": {
      "text/html": [],
      "text/plain": [
       "ToggleButton([Input{Bool}] false,\"Show/Hide\",false)"
      ]
     },
     "metadata": {},
     "output_type": "display_data"
    },
    {
     "data": {
      "text/markdown": [
       "\n"
      ],
      "text/plain": [
       "Revealable(\"You can encode content using a Caesar cipher\\nso students can't easily see answers until you give them the password.\\n\\nThere are two ways to encode the Revealable:\\n* `encode!` (destructive)\\n* `encode` (returns a new Revealable with the content of the old Revealable encoded)\\n\\nLikewise, there are two ways to decode the encoded Revealable:\\n* `decode!` (destructive)\\n* `decode` (returns a new Revealable with the content of the old Revealable decoded)\\n\\nYou cannot double-encode or double-decode a Revealable. If a Revealable has been encoded, \\nyou cannot encode it again unless it is decoded first.\",\"Show/Hide\",false,false)"
      ]
     },
     "execution_count": 8,
     "metadata": {
      "comm_id": "62379136-9b99-4935-af4c-bd1207b86e8b",
      "reactive": true
     },
     "output_type": "execute_result"
    }
   ],
   "source": [
    "text = Revealable(\"\"\"You can encode content using a Caesar cipher\n",
    "so students can't easily see answers until you give them the password.\n",
    "\n",
    "There are two ways to encode the Revealable:\n",
    "* `encode!` (destructive)\n",
    "* `encode` (returns a new Revealable with the content of the old Revealable encoded)\n",
    "\n",
    "Likewise, there are two ways to decode the encoded Revealable:\n",
    "* `decode!` (destructive)\n",
    "* `decode` (returns a new Revealable with the content of the old Revealable decoded)\n",
    "\n",
    "You cannot double-encode or double-decode a Revealable. If a Revealable has been encoded, \n",
    "you cannot encode it again unless it is decoded first.\"\"\")\n",
    "revealable(text)"
   ]
  },
  {
   "cell_type": "code",
   "execution_count": 9,
   "metadata": {
    "collapsed": false
   },
   "outputs": [
    {
     "data": {
      "text/html": [],
      "text/plain": [
       "ToggleButton([Input{Bool}] true,\"Show/Hide\",true)"
      ]
     },
     "metadata": {},
     "output_type": "display_data"
    },
    {
     "data": {
      "text/markdown": [
       "Xnt bzm dmbncd bnmsdms trhmf z Bzdrzq bhogdq\n",
       "rn rstcdmsr bzm's dzrhkx rdd zmrvdqr tmshk xnt fhud sgdl sgd ozrrvnqc.\n",
       "\n",
       "Sgdqd zqd svn vzxr sn dmbncd sgd Qdudzkzakd:\n",
       "* `dmbncd!` (cdrsqtbshud)\n",
       "* `dmbncd` (qdstqmr z mdv Qdudzkzakd vhsg sgd bnmsdms ne sgd nkc Qdudzkzakd dmbncdc)\n",
       "\n",
       "Khjdvhrd, sgdqd zqd svn vzxr sn cdbncd sgd dmbncdc Qdudzkzakd:\n",
       "* `cdbncd!` (cdrsqtbshud)\n",
       "* `cdbncd` (qdstqmr z mdv Qdudzkzakd vhsg sgd bnmsdms ne sgd nkc Qdudzkzakd cdbncdc)\n",
       "\n",
       "Xnt bzmmns cntakd-dmbncd nq cntakd-cdbncd z Qdudzkzakd. He z Qdudzkzakd gzr addm dmbncdc, \n",
       "xnt bzmmns dmbncd hs zfzhm tmkdrr hs hr cdbncdc ehqrs.\n"
      ],
      "text/plain": [
       "Revealable(\"Xnt bzm dmbncd bnmsdms trhmf z Bzdrzq bhogdq\\nrn rstcdmsr bzm's dzrhkx rdd zmrvdqr tmshk xnt fhud sgdl sgd ozrrvnqc.\\n\\nSgdqd zqd svn vzxr sn dmbncd sgd Qdudzkzakd:\\n* `dmbncd!` (cdrsqtbshud)\\n* `dmbncd` (qdstqmr z mdv Qdudzkzakd vhsg sgd bnmsdms ne sgd nkc Qdudzkzakd dmbncdc)\\n\\nKhjdvhrd, sgdqd zqd svn vzxr sn cdbncd sgd dmbncdc Qdudzkzakd:\\n* `cdbncd!` (cdrsqtbshud)\\n* `cdbncd` (qdstqmr z mdv Qdudzkzakd vhsg sgd bnmsdms ne sgd nkc Qdudzkzakd cdbncdc)\\n\\nXnt bzmmns cntakd-dmbncd nq cntakd-cdbncd z Qdudzkzakd. He z Qdudzkzakd gzr addm dmbncdc, \\nxnt bzmmns dmbncd hs zfzhm tmkdrr hs hr cdbncdc ehqrs.\",\"Show/Hide\",true,true)"
      ]
     },
     "execution_count": 9,
     "metadata": {
      "comm_id": "bfa95f11-d1a5-42ad-bc39-12d00013e011",
      "reactive": true
     },
     "output_type": "execute_result"
    }
   ],
   "source": [
    "encode!(text, \"password\")\n",
    "revealable(text)"
   ]
  },
  {
   "cell_type": "code",
   "execution_count": 10,
   "metadata": {
    "collapsed": false
   },
   "outputs": [
    {
     "data": {
      "text/html": [],
      "text/plain": [
       "ToggleButton([Input{Bool}] false,\"Show/Hide\",false)"
      ]
     },
     "metadata": {},
     "output_type": "display_data"
    },
    {
     "data": {
      "text/markdown": [
       "\n"
      ],
      "text/plain": [
       "Revealable(\"You can encode content using a Caesar cipher\\nso students can't easily see answers until you give them the password.\\n\\nThere are two ways to encode the Revealable:\\n* `encode!` (destructive)\\n* `encode` (returns a new Revealable with the content of the old Revealable encoded)\\n\\nLikewise, there are two ways to decode the encoded Revealable:\\n* `decode!` (destructive)\\n* `decode` (returns a new Revealable with the content of the old Revealable decoded)\\n\\nYou cannot double-encode or double-decode a Revealable. If a Revealable has been encoded, \\nyou cannot encode it again unless it is decoded first.\",\"Show/Hide\",false,false)"
      ]
     },
     "execution_count": 10,
     "metadata": {
      "comm_id": "5ace8305-ff9e-4f6f-a094-a46d8e3de725",
      "reactive": true
     },
     "output_type": "execute_result"
    }
   ],
   "source": [
    "decode!(text, \"password\")\n",
    "revealable(text)"
   ]
  },
  {
   "cell_type": "markdown",
   "metadata": {},
   "source": [
    "##Other Uses\n",
    "With `Interact`'s widgets:"
   ]
  },
  {
   "cell_type": "code",
   "execution_count": 11,
   "metadata": {
    "collapsed": false,
    "run_control": {
     "read_only": false
    }
   },
   "outputs": [
    {
     "data": {
      "text/html": [],
      "text/plain": [
       "Slider{Int64}([Input{Int64}] 1,\"\",1,1:4)"
      ]
     },
     "metadata": {},
     "output_type": "display_data"
    },
    {
     "data": {
      "text/markdown": [
       "<font color=\"#990000\">Step 1: Make an array of Revealables with `show` set to `true`</font>\n"
      ],
      "text/plain": [
       "Revealable(\"<font color=\\\"#990000\\\">Step 1: Make an array of Revealables with `show` set to `true`</font>\",\"\",true,false)"
      ]
     },
     "execution_count": 11,
     "metadata": {
      "comm_id": "14fd7aec-165e-45ef-a0e6-8fdecf47a6f2",
      "reactive": true
     },
     "output_type": "execute_result"
    }
   ],
   "source": [
    "slidercontent = [\n",
    "    Revealable(\"\"\"<font color=\"#990000\">Step 1: Make an array of Revealables with `show` set to `true`</font>\"\"\", \"\", true),\n",
    "    Revealable(\"\"\"<font color=\"#009900\">Step 2: using `Interactive.@manipulate`, create a slider (or other widget)</font>\"\"\", \"\", true),\n",
    "    Revealable(\"\"\"<font color=\"#000099\">Step 3: Display the correct Revealable by using the widget. The Revealable will use the richest display available.</font>\"\"\", \"\", true),\n",
    "    Revealable(\"\"\"I use this most often for stepping through a series of images with explanations.\"\"\", \"\", true)]\n",
    "\n",
    "using Interact\n",
    "@manipulate for s = slider(1:4, value=1)\n",
    "    slidercontent[s]\n",
    "end"
   ]
  },
  {
   "cell_type": "markdown",
   "metadata": {},
   "source": [
    "##Limitations\n",
    "\n",
    "If put multiple buttons in one cell, only the last button will work."
   ]
  },
  {
   "cell_type": "code",
   "execution_count": 12,
   "metadata": {
    "collapsed": false,
    "run_control": {
     "read_only": false
    }
   },
   "outputs": [
    {
     "data": {
      "text/html": [],
      "text/plain": [
       "ToggleButton([Input{Bool}] false,\"Broken Button\",false)"
      ]
     },
     "metadata": {},
     "output_type": "display_data"
    },
    {
     "data": {
      "text/html": [],
      "text/plain": [
       "ToggleButton([Input{Bool}] false,\"Another Broken Button\",false)"
      ]
     },
     "metadata": {},
     "output_type": "display_data"
    },
    {
     "data": {
      "text/html": [],
      "text/plain": [
       "ToggleButton([Input{Bool}] false,\"Functional Button!\",false)"
      ]
     },
     "metadata": {},
     "output_type": "display_data"
    },
    {
     "data": {
      "text/markdown": [
       "\n"
      ],
      "text/plain": [
       "Revealable(\"Only the third button works! \\nIf you know how to fix this, I'd love to learn.\",\"Functional Button!\",false,false)"
      ]
     },
     "execution_count": 12,
     "metadata": {
      "comm_id": "1b32ce17-ce52-42c8-b18b-a475caf0c85c",
      "reactive": true
     },
     "output_type": "execute_result"
    }
   ],
   "source": [
    "revealable(\"\"\"\n",
    "    The first button won't work.\n",
    "\"\"\", \"Broken Button\", false)\n",
    "\n",
    "revealable(\"\"\"\n",
    "    The second button won't work.\n",
    "\"\"\", \"Another Broken Button\", false)\n",
    "\n",
    "revealable(\"\"\"Only the third button works! \n",
    "If you know how to fix this, I'd love to learn.\"\"\", \"Functional Button!\", false)"
   ]
  },
  {
   "cell_type": "markdown",
   "metadata": {},
   "source": [
    "Also, the Markdown in button output can't display LaTeX."
   ]
  },
  {
   "cell_type": "code",
   "execution_count": 13,
   "metadata": {
    "collapsed": false,
    "run_control": {
     "read_only": false
    }
   },
   "outputs": [
    {
     "data": {
      "text/html": [],
      "text/plain": [
       "ToggleButton([Input{Bool}] false,\"No LaTeX\",false)"
      ]
     },
     "metadata": {},
     "output_type": "display_data"
    },
    {
     "data": {
      "text/markdown": [
       "\n"
      ],
      "text/plain": [
       "Revealable(\"Markdown doesn't render LaTeX: \\$\\\\frac{3^x}{x-2}\\$. Use HTML and less nice formatting instead: (3<sup>x</sup>)/(x-2).\\n\",\"No LaTeX\",false,false)"
      ]
     },
     "execution_count": 13,
     "metadata": {
      "comm_id": "bc9af41f-2af9-4e04-a116-fa9dbcf175ca",
      "reactive": true
     },
     "output_type": "execute_result"
    }
   ],
   "source": [
    "revealable(\"\"\"\n",
    "Markdown doesn't render LaTeX: \\$\\\\frac{3^x}{x-2}\\$. Use HTML and less nice formatting instead: (3<sup>x</sup>)/(x-2).\n",
    "\"\"\", \"No LaTeX\", false)"
   ]
  },
  {
   "cell_type": "code",
   "execution_count": null,
   "metadata": {
    "collapsed": true,
    "run_control": {
     "read_only": false
    }
   },
   "outputs": [],
   "source": []
  }
 ],
 "metadata": {
  "kernelspec": {
   "display_name": "Julia 0.3.10",
   "language": "julia",
   "name": "julia-0.3"
  },
  "language_info": {
   "file_extension": ".jl",
   "mimetype": "application/julia",
   "name": "julia",
   "version": "0.3.10"
  }
 },
 "nbformat": 4,
 "nbformat_minor": 0
}
