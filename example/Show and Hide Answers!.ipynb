{
 "cells": [
  {
   "cell_type": "code",
   "execution_count": 7,
   "metadata": {
    "collapsed": false,
    "input_collapsed": false,
    "run_control": {
     "read_only": false
    }
   },
   "outputs": [],
   "source": [
    "using Revealables"
   ]
  },
  {
   "cell_type": "markdown",
   "metadata": {},
   "source": [
    "Run the cells below to generate buttons that will reveal HTML. The code cells are hidden by the [Hide Input](https://github.com/ipython-contrib/IPython-notebook-extensions/blob/3.x/usability/hide_input.js) IPython notebook extension, which is automatically installed by the Revealables package."
   ]
  },
  {
   "cell_type": "code",
   "execution_count": 8,
   "metadata": {
    "collapsed": false,
    "input_collapsed": true,
    "run_control": {
     "read_only": false
    }
   },
   "outputs": [
    {
     "data": {
      "text/html": [],
      "text/plain": [
       "ToggleButton([Input{Bool}] false,\"Click this button!\",false)"
      ]
     },
     "metadata": {},
     "output_type": "display_data"
    },
    {
     "data": {
      "text/markdown": [
       "\n"
      ],
      "text/plain": [
       "Revealable(\"#Revealables.jl\\nHide and reveal text with the click of a button\\n\",\"Click this button!\",false)"
      ]
     },
     "execution_count": 8,
     "metadata": {
      "comm_id": "e0a090ef-bbdc-46d6-926f-2fd3784c238e",
      "reactive": true
     },
     "output_type": "execute_result"
    }
   ],
   "source": [
    "revealable(\"\"\"\n",
    "#Revealables.jl\n",
    "Hide and reveal text with the click of a button\n",
    "\"\"\", \"Click this button!\", false)"
   ]
  },
  {
   "cell_type": "markdown",
   "metadata": {
    "input_collapsed": true
   },
   "source": [
    "If you have [Hide Input](https://github.com/ipython-contrib/IPython-notebook-extensions/blob/3.x/usability/hide_input.js) installed, the code cell above is hidden and you can see only the button. You can unhide the code cells above by clicking on the chevron-up icon. (If you don't have the Hide Input extension, the code wasn't hidden in the first place.)\n",
    "\n",
    "The next two code cells show two ways to create a button:"
   ]
  },
  {
   "cell_type": "code",
   "execution_count": 9,
   "metadata": {
    "collapsed": false,
    "input_collapsed": false,
    "run_control": {
     "read_only": false
    }
   },
   "outputs": [
    {
     "data": {
      "text/html": [],
      "text/plain": [
       "ToggleButton([Input{Bool}] false,\"This is the button's label\",false)"
      ]
     },
     "metadata": {},
     "output_type": "display_data"
    },
    {
     "data": {
      "text/markdown": [
       "\n"
      ],
      "text/plain": [
       "Revealable(\"You can use two steps to create a button:\\n1. Create an instance of a <code>Revealable</code>, which has three fields:\\n   * Markdown (which can include HTML) to display [<code>ASCIIString</code>]\\n   * the label to use on a button [<code>ASCIIString</code>]\\n   * whether or not the Markdown should be displayed automatically (`false` by default) [<code>Bool</code>]\\n2. run the <code>revealable</code> function to create the button.\\n\",\"This is the button's label\",false)"
      ]
     },
     "execution_count": 9,
     "metadata": {
      "comm_id": "f2ef39db-9c6a-4ea9-a479-20578c9cdf52",
      "reactive": true
     },
     "output_type": "execute_result"
    }
   ],
   "source": [
    "h = Revealable(\"\"\"\n",
    "You can use two steps to create a button:\n",
    "1. Create an instance of a <code>Revealable</code>, which has three fields:\n",
    "   * Markdown (which can include HTML) to display [<code>ASCIIString</code>]\n",
    "   * the label to use on a button [<code>ASCIIString</code>]\n",
    "   * whether or not the Markdown should be displayed automatically (`false` by default) [<code>Bool</code>]\n",
    "2. run the <code>revealable</code> function to create the button.\n",
    "\"\"\", \"This is the button's label\", false)\n",
    "\n",
    "revealable(h)"
   ]
  },
  {
   "cell_type": "code",
   "execution_count": 10,
   "metadata": {
    "collapsed": false,
    "input_collapsed": false,
    "run_control": {
     "read_only": false
    }
   },
   "outputs": [
    {
     "data": {
      "text/html": [],
      "text/plain": [
       "ToggleButton([Input{Bool}] false,\"Another Button!\",false)"
      ]
     },
     "metadata": {},
     "output_type": "display_data"
    },
    {
     "data": {
      "text/markdown": [
       "\n"
      ],
      "text/plain": [
       "Revealable(\"You can also just run the <code>revealable</code> function \\nand pass in the same arguments as if you were instantiating \\nthe <code>Revealable</code> type. The same defaults and \\noptions apply.\\n\",\"Another Button!\",false)"
      ]
     },
     "execution_count": 10,
     "metadata": {
      "comm_id": "3a5261b6-64ea-4f71-a0d8-c73791320597",
      "reactive": true
     },
     "output_type": "execute_result"
    }
   ],
   "source": [
    "revealable(\"\"\"\n",
    "You can also just run the <code>revealable</code> function \n",
    "and pass in the same arguments as if you were instantiating \n",
    "the <code>Revealable</code> type. The same defaults and \n",
    "options apply.\n",
    "\"\"\", \"Another Button!\", false)"
   ]
  },
  {
   "cell_type": "code",
   "execution_count": 11,
   "metadata": {
    "collapsed": false,
    "run_control": {
     "read_only": false
    }
   },
   "outputs": [
    {
     "data": {
      "text/html": [],
      "text/plain": [
       "ToggleButton([Input{Bool}] false,\"Interpolate Variables\",false)"
      ]
     },
     "metadata": {},
     "output_type": "display_data"
    },
    {
     "data": {
      "text/markdown": [
       "\n"
      ],
      "text/plain": [
       "Revealable(\"You can include variables in your Revealable by using normal\\nJulia string interpolation. This is an interpolated string! <font color=blue>This string includes HTML.</font> You have to escape the characters\\n\\\", \\$, \\\\, \\\\*, and # as shown in the code.\\n\",\"Interpolate Variables\",false)"
      ]
     },
     "execution_count": 11,
     "metadata": {
      "comm_id": "64f53c63-1aad-4c05-830b-87aeac9cb199",
      "reactive": true
     },
     "output_type": "execute_result"
    }
   ],
   "source": [
    "variable = \"This is an interpolated string!\"\n",
    "\n",
    "formatted = \"<font color=blue>This string includes HTML.</font>\"\n",
    "\n",
    "revealable(\"\"\"\n",
    "You can include variables in your Revealable by using normal\n",
    "Julia string interpolation. $variable $formatted You have to escape the characters\n",
    "\\\", \\$, \\\\, \\\\\\*, and \\# as shown in the code.\n",
    "\"\"\", \"Interpolate Variables\", false)"
   ]
  },
  {
   "cell_type": "markdown",
   "metadata": {},
   "source": [
    "###Default Values\n",
    "Since Revealables are set not to show initially, you can omit the last argument. If you do not want to set your own label for the button, you can also omit the second string."
   ]
  },
  {
   "cell_type": "code",
   "execution_count": 12,
   "metadata": {
    "collapsed": false,
    "run_control": {
     "read_only": false
    }
   },
   "outputs": [
    {
     "data": {
      "text/html": [],
      "text/plain": [
       "ToggleButton([Input{Bool}] false,\"Show/Hide\",false)"
      ]
     },
     "metadata": {},
     "output_type": "display_data"
    },
    {
     "data": {
      "text/markdown": [
       "\n"
      ],
      "text/plain": [
       "Revealable(\"There is only an <font color=\\\"purple\\\">ASCIIString argument</font> \\npassed to this function. The string will be displayed as Markdown, \\nwhich can handle many HTML tags.\",\"Show/Hide\",false)"
      ]
     },
     "execution_count": 12,
     "metadata": {
      "comm_id": "fb338e8b-9d14-4993-84a5-bb53d53d25bc",
      "reactive": true
     },
     "output_type": "execute_result"
    }
   ],
   "source": [
    "revealable(\"\"\"There is only an <font color=\"purple\">ASCIIString argument</font> \n",
    "passed to this function. The string will be displayed as Markdown, \n",
    "which can handle many HTML tags.\"\"\")"
   ]
  },
  {
   "cell_type": "code",
   "execution_count": 13,
   "metadata": {
    "collapsed": false,
    "run_control": {
     "read_only": false
    }
   },
   "outputs": [
    {
     "data": {
      "text/html": [],
      "text/plain": [
       "ToggleButton([Input{Bool}] false,\"Show/Hide\",false)"
      ]
     },
     "metadata": {},
     "output_type": "display_data"
    },
    {
     "data": {
      "text/markdown": [
       "\n"
      ],
      "text/plain": [
       "Revealable(\"In addition to including HTML and Markdown, you can\\nformat your text through CSS classes. That will require you to\\ndefine new classes in your custom.css file.\",\"Show/Hide\",false)"
      ]
     },
     "execution_count": 13,
     "metadata": {
      "comm_id": "c37542e8-24dd-4bc8-b1c0-8e58eb112d74",
      "reactive": true
     },
     "output_type": "execute_result"
    }
   ],
   "source": [
    "revealable(\"\"\"In addition to including HTML and Markdown, you can\n",
    "format your text through CSS classes. That will require you to\n",
    "define new classes in your custom.css file.\"\"\")"
   ]
  },
  {
   "cell_type": "markdown",
   "metadata": {},
   "source": [
    "###Other Uses\n",
    "With `Interact`'s widgets:"
   ]
  },
  {
   "cell_type": "code",
   "execution_count": 14,
   "metadata": {
    "collapsed": false,
    "run_control": {
     "read_only": false
    }
   },
   "outputs": [
    {
     "data": {
      "text/html": [],
      "text/plain": [
       "Slider{Int64}([Input{Int64}] 1,\"\",1,1:4)"
      ]
     },
     "metadata": {},
     "output_type": "display_data"
    },
    {
     "data": {
      "text/markdown": [
       "<font color=\"#990000\">Step 1: Make an array of Revealables with `show` set to `true`</font>\n"
      ],
      "text/plain": [
       "Revealable(\"<font color=\\\"#990000\\\">Step 1: Make an array of Revealables with `show` set to `true`</font>\",\"\",true)"
      ]
     },
     "execution_count": 14,
     "metadata": {
      "comm_id": "abeb50ae-f87a-408f-b651-4ceca867012c",
      "reactive": true
     },
     "output_type": "execute_result"
    }
   ],
   "source": [
    "slidercontent = [\n",
    "    Revealable(\"\"\"<font color=\"#990000\">Step 1: Make an array of Revealables with `show` set to `true`</font>\"\"\", \"\", true),\n",
    "    Revealable(\"\"\"<font color=\"#009900\">Step 2: using `Interactive.@manipulate`, create a slider (or other widget)</font>\"\"\", \"\", true),\n",
    "    Revealable(\"\"\"<font color=\"#000099\">Step 3: Display the correct Revealable by using the widget. The Revealable will use the richest display available.</font>\"\"\", \"\", true),\n",
    "    Revealable(\"\"\"I use this most often for stepping through a series of images with explanations.\"\"\", \"\", true)]\n",
    "\n",
    "using Interact\n",
    "@manipulate for s = slider(1:4, value=1)\n",
    "    slidercontent[s]\n",
    "end"
   ]
  },
  {
   "cell_type": "markdown",
   "metadata": {},
   "source": [
    "###Limitations\n",
    "\n",
    "If put multiple buttons in one cell, only the last button will work."
   ]
  },
  {
   "cell_type": "code",
   "execution_count": 15,
   "metadata": {
    "collapsed": false,
    "run_control": {
     "read_only": false
    }
   },
   "outputs": [
    {
     "data": {
      "text/html": [],
      "text/plain": [
       "ToggleButton([Input{Bool}] false,\"Broken Button\",false)"
      ]
     },
     "metadata": {},
     "output_type": "display_data"
    },
    {
     "data": {
      "text/html": [],
      "text/plain": [
       "ToggleButton([Input{Bool}] false,\"Another Broken Button\",false)"
      ]
     },
     "metadata": {},
     "output_type": "display_data"
    },
    {
     "data": {
      "text/html": [],
      "text/plain": [
       "ToggleButton([Input{Bool}] false,\"Functional Button!\",false)"
      ]
     },
     "metadata": {},
     "output_type": "display_data"
    },
    {
     "data": {
      "text/markdown": [
       "\n"
      ],
      "text/plain": [
       "Revealable(\"Only the third button works! \\nIf you know how to fix this, I'd love to learn.\",\"Functional Button!\",false)"
      ]
     },
     "execution_count": 15,
     "metadata": {
      "comm_id": "35211575-da28-422f-9fbb-dabfc17a429b",
      "reactive": true
     },
     "output_type": "execute_result"
    }
   ],
   "source": [
    "revealable(\"\"\"\n",
    "    The first button won't work.\n",
    "\"\"\", \"Broken Button\", false)\n",
    "\n",
    "revealable(\"\"\"\n",
    "    The second button won't work.\n",
    "\"\"\", \"Another Broken Button\", false)\n",
    "\n",
    "revealable(\"\"\"Only the third button works! \n",
    "If you know how to fix this, I'd love to learn.\"\"\", \"Functional Button!\", false)"
   ]
  },
  {
   "cell_type": "markdown",
   "metadata": {},
   "source": [
    "Also, the Markdown in button output can't display LaTeX."
   ]
  },
  {
   "cell_type": "code",
   "execution_count": 16,
   "metadata": {
    "collapsed": false,
    "run_control": {
     "read_only": false
    }
   },
   "outputs": [
    {
     "data": {
      "text/html": [],
      "text/plain": [
       "ToggleButton([Input{Bool}] false,\"No LaTeX\",false)"
      ]
     },
     "metadata": {},
     "output_type": "display_data"
    },
    {
     "data": {
      "text/markdown": [
       "\n"
      ],
      "text/plain": [
       "Revealable(\"Markdown doesn't render LaTeX: \\$\\\\frac{3^x}{x-2}\\$. Use HTML and less nice formatting instead: (3<sup>x</sup>)/(x-2).\\n\",\"No LaTeX\",false)"
      ]
     },
     "execution_count": 16,
     "metadata": {
      "comm_id": "e5cb7e94-a356-48d9-8c71-e89d3647da62",
      "reactive": true
     },
     "output_type": "execute_result"
    }
   ],
   "source": [
    "revealable(\"\"\"\n",
    "Markdown doesn't render LaTeX: \\$\\\\frac{3^x}{x-2}\\$. Use HTML and less nice formatting instead: (3<sup>x</sup>)/(x-2).\n",
    "\"\"\", \"No LaTeX\", false)"
   ]
  },
  {
   "cell_type": "code",
   "execution_count": null,
   "metadata": {
    "collapsed": true,
    "run_control": {
     "read_only": false
    }
   },
   "outputs": [],
   "source": []
  }
 ],
 "metadata": {
  "kernelspec": {
   "display_name": "Julia 0.3.10",
   "language": "julia",
   "name": "julia-0.3"
  },
  "language_info": {
   "file_extension": ".jl",
   "mimetype": "application/julia",
   "name": "julia",
   "version": "0.3.10"
  }
 },
 "nbformat": 4,
 "nbformat_minor": 0
}
