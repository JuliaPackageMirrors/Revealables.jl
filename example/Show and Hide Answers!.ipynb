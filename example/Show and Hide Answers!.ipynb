{
 "cells": [
  {
   "cell_type": "code",
   "execution_count": 1,
   "metadata": {
    "collapsed": false,
    "run_control": {
     "read_only": false
    }
   },
   "outputs": [
    {
     "data": {
      "text/html": [
       "<script charset=\"utf-8\">(function ($, undefined) {\n",
       "\n",
       "    function createElem(tag, attr, content) {\n",
       "\t// TODO: remove jQuery dependency\n",
       "\tvar el = $(\"<\" + tag + \"/>\").attr(attr);\n",
       "\tif (content) {\n",
       "\t    el.append(content);\n",
       "\t}\n",
       "\treturn el[0];\n",
       "    }\n",
       "\n",
       "    // A widget must expose an id field which identifies it to the backend,\n",
       "    // an elem attribute which is will be added to the DOM, and\n",
       "    // a getState() method which returns the value to be sent to the backend\n",
       "    // a sendUpdate() method which sends its current value to the backend\n",
       "    var Widget = {\n",
       "\tid: undefined,\n",
       "\telem: undefined,\n",
       "\tlabel: undefined,\n",
       "\tgetState: function () {\n",
       "\t    return this.elem.value;\n",
       "\t},\n",
       "\tsendUpdate: undefined\n",
       "    };\n",
       "\n",
       "    var Slider = function (typ, id, init) {\n",
       "\tvar attr = { type:  \"range\",\n",
       "\t\t     value: init.value,\n",
       "\t\t     min:   init.min,\n",
       "\t\t     max:   init.max,\n",
       "\t\t     step:  init.step },\n",
       "\t    elem = createElem(\"input\", attr),\n",
       "\t    self = this;\n",
       "\n",
       "\telem.onchange = function () {\n",
       "\t    self.sendUpdate();\n",
       "\t}\n",
       "\n",
       "\tthis.id = id;\n",
       "\tthis.elem = elem;\n",
       "\tthis.label = init.label;\n",
       "\n",
       "\tInputWidgets.commInitializer(this); // Initialize communication\n",
       "    }\n",
       "    Slider.prototype = Widget;\n",
       "\n",
       "    var Checkbox = function (typ, id, init) {\n",
       "\tvar attr = { type: \"checkbox\",\n",
       "\t\t     checked: init.value },\n",
       "\t    elem = createElem(\"input\", attr),\n",
       "\t    self = this;\n",
       "\n",
       "\tthis.getState = function () {\n",
       "\t    return elem.checked;\n",
       "\t}\n",
       "\telem.onchange = function () {\n",
       "\t    self.sendUpdate();\n",
       "\t}\n",
       "\n",
       "\tthis.id = id;\n",
       "\tthis.elem = elem;\n",
       "\tthis.label = init.label;\n",
       "\n",
       "\tInputWidgets.commInitializer(this);\n",
       "    }\n",
       "    Checkbox.prototype = Widget;\n",
       "\n",
       "    var Button = function (typ, id, init) {\n",
       "\tvar attr = { type:    \"button\",\n",
       "\t\t     value:   init.label },\n",
       "\t    elem = createElem(\"input\", attr),\n",
       "\t    self = this;\n",
       "\tthis.getState = function () {\n",
       "\t    return null;\n",
       "\t}\n",
       "\telem.onclick = function () {\n",
       "\t    self.sendUpdate();\n",
       "\t}\n",
       "\n",
       "\tthis.id = id;\n",
       "\tthis.elem = elem;\n",
       "\tthis.label = init.label;\n",
       "\n",
       "\tInputWidgets.commInitializer(this);\n",
       "    }\n",
       "    Button.prototype = Widget;\n",
       "\n",
       "    var Text = function (typ, id, init) {\n",
       "\tvar attr = { type:  \"text\",\n",
       "\t\t     placeholder: init.label,\n",
       "\t\t     value: init.value },\n",
       "\t    elem = createElem(\"input\", attr),\n",
       "\t    self = this;\n",
       "\tthis.getState = function () {\n",
       "\t    return elem.value;\n",
       "\t}\n",
       "\telem.onkeyup = function () {\n",
       "\t    self.sendUpdate();\n",
       "\t}\n",
       "\n",
       "\tthis.id = id;\n",
       "\tthis.elem = elem;\n",
       "\tthis.label = init.label;\n",
       "\n",
       "\tInputWidgets.commInitializer(this);\n",
       "    }\n",
       "    Text.prototype = Widget;\n",
       "\n",
       "    var Textarea = function (typ, id, init) {\n",
       "\tvar attr = { placeholder: init.label },\n",
       "\t    elem = createElem(\"textarea\", attr, init.value),\n",
       "\t    self = this;\n",
       "\tthis.getState = function () {\n",
       "\t    return elem.value;\n",
       "\t}\n",
       "\telem.onchange = function () {\n",
       "\t    self.sendUpdate();\n",
       "\t}\n",
       "\n",
       "\tthis.id = id;\n",
       "\tthis.elem = elem;\n",
       "\tthis.label = init.label;\n",
       "\n",
       "\tInputWidgets.commInitializer(this);\n",
       "    }\n",
       "    Textarea.prototype = Widget;\n",
       "\n",
       "    // RadioButtons\n",
       "    // Dropdown\n",
       "    // HTML\n",
       "    // Latex\n",
       "\n",
       "    var InputWidgets = {\n",
       "\tSlider: Slider,\n",
       "\tCheckbox: Checkbox,\n",
       "\tButton: Button,\n",
       "\tText: Text,\n",
       "\tTextarea: Textarea,\n",
       "\tdebug: false,\n",
       "\tlog: function () {\n",
       "\t    if (InputWidgets.debug) {\n",
       "\t\tconsole.log.apply(console, arguments);\n",
       "\t    }\n",
       "\t},\n",
       "\t// a central way to initalize communication\n",
       "\t// for widgets.\n",
       "\tcommInitializer: function (widget) {\n",
       "\t    widget.sendUpdate = function () {};\n",
       "\t}\n",
       "    };\n",
       "\n",
       "    window.InputWidgets = InputWidgets;\n",
       "\n",
       "})(jQuery, undefined);\n",
       "</script>"
      ]
     },
     "metadata": {},
     "output_type": "display_data"
    },
    {
     "data": {
      "text/html": [
       "<script charset=\"utf-8\">(function (IPython, $, _, MathJax, Widgets) {\n",
       "    $.event.special.destroyed = {\n",
       "\tremove: function(o) {\n",
       "\t    if (o.handler) {\n",
       "\t\to.handler.apply(this, arguments)\n",
       "\t    }\n",
       "\t}\n",
       "    }\n",
       "\n",
       "    var redrawValue = function (container, type, val) {\n",
       "\tvar selector = $(\"<div/>\");\n",
       "\tvar oa = new IPython.OutputArea(_.extend(selector, {\n",
       "\t    selector: selector,\n",
       "\t    prompt_area: true,\n",
       "\t    events: IPython.events,\n",
       "\t    keyboard_manager: IPython.keyboard_manager\n",
       "\t})); // Hack to work with IPython 2.1.0\n",
       "\n",
       "\tswitch (type) {\n",
       "\tcase \"image/png\":\n",
       "            var _src = 'data:' + type + ';base64,' + val;\n",
       "\t    $(container).find(\"img\").attr('src', _src);\n",
       "\t    break;\n",
       "\tdefault:\n",
       "\t    var toinsert = IPython.OutputArea.append_map[type].apply(\n",
       "\t\toa, [val, {}, selector]\n",
       "\t    );\n",
       "\t    $(container).empty().append(toinsert.contents());\n",
       "\t    selector.remove();\n",
       "\t}\n",
       "\tif (type === \"text/latex\" && MathJax) {\n",
       "\t    MathJax.Hub.Queue([\"Typeset\", MathJax.Hub, toinsert.get(0)]);\n",
       "\t}\n",
       "    }\n",
       "\n",
       "\n",
       "    $(document).ready(function() {\n",
       "\tWidgets.debug = false; // log messages etc in console.\n",
       "\tfunction initComm(evt, data) {\n",
       "\t    var comm_manager = data.kernel.comm_manager;\n",
       "        //_.extend(comm_manager.targets, require(\"widgets/js/widget\"))\n",
       "\t    comm_manager.register_target(\"Signal\", function (comm) {\n",
       "            comm.on_msg(function (msg) {\n",
       "                //Widgets.log(\"message received\", msg);\n",
       "                var val = msg.content.data.value;\n",
       "                $(\".signal-\" + comm.comm_id).each(function() {\n",
       "                var type = $(this).data(\"type\");\n",
       "                if (val[type]) {\n",
       "                    redrawValue(this, type, val[type], type);\n",
       "                }\n",
       "                });\n",
       "                delete val;\n",
       "                delete msg.content.data.value;\n",
       "            });\n",
       "\t    });\n",
       "\n",
       "\t    // coordingate with Comm and redraw Signals\n",
       "\t    // XXX: Test using Reactive here to improve performance\n",
       "\t    $([IPython.events]).on(\n",
       "\t\t'output_appended.OutputArea', function (event, type, value, md, toinsert) {\n",
       "\t\t    if (md && md.reactive) {\n",
       "                // console.log(md.comm_id);\n",
       "                toinsert.addClass(\"signal-\" + md.comm_id);\n",
       "                toinsert.data(\"type\", type);\n",
       "                // Signal back indicating the mimetype required\n",
       "                var comm_manager = IPython.notebook.kernel.comm_manager;\n",
       "                var comm = comm_manager.comms[md.comm_id];\n",
       "                comm.then(function (c) {\n",
       "                    c.send({action: \"subscribe_mime\",\n",
       "                       mime: type});\n",
       "                    toinsert.bind(\"destroyed\", function() {\n",
       "                        c.send({action: \"unsubscribe_mime\",\n",
       "                               mime: type});\n",
       "                    });\n",
       "                })\n",
       "\t\t    }\n",
       "\t    });\n",
       "\t}\n",
       "\n",
       "\ttry {\n",
       "\t    // try to initialize right away. otherwise, wait on the status_started event.\n",
       "\t    initComm(undefined, IPython.notebook);\n",
       "\t} catch (e) {\n",
       "\t    $([IPython.events]).on('status_started.Kernel', initComm);\n",
       "\t}\n",
       "    });\n",
       "})(IPython, jQuery, _, MathJax, InputWidgets);\n",
       "</script>"
      ]
     },
     "metadata": {},
     "output_type": "display_data"
    }
   ],
   "source": [
    "using RevealHTML\n",
    "using Reactive\n",
    "using Interact"
   ]
  },
  {
   "cell_type": "markdown",
   "metadata": {},
   "source": [
    "Run the cells below to generate buttons that will reveal HTML. The code cells are hidden by the [Hide Input](https://github.com/ipython-contrib/IPython-notebook-extensions/blob/3.x/usability/hide_input.js) IPython notebook extension, which is automatically installed by the RevealHTML package.\n",
    "\n",
    "Adding RevealHTML downloads a CSS file (`reveal-html.css`) in the same folder as your notebook profile's custom CSS.\n",
    "\n",
    "`reveal-html.css` has 4 defined `<div>` classes: `notes`, `example`, `hint`, and `answer`. Each has its own background color. You can edit these classes and define your own."
   ]
  },
  {
   "cell_type": "code",
   "execution_count": 2,
   "metadata": {
    "collapsed": false,
    "input_collapsed": true,
    "run_control": {
     "read_only": false
    }
   },
   "outputs": [
    {
     "data": {
      "text/html": [],
      "text/plain": [
       "ToggleButton([Input{Bool}] false,\"Show/Hide Answer\",false)"
      ]
     },
     "metadata": {},
     "output_type": "display_data"
    },
    {
     "data": {
      "text/html": [
       "\n"
      ],
      "text/plain": [
       "Revealable(false,\"<div class=\\\"answer\\\">\\n<h2>Alice's Adventures in Wonderland</h2>\\n<p>by Lewis Carroll</p>\\n<h3>Chapter 1. Down the Rabbit-Hole</h3>\\n<p>\\nAlice was beginning to get very tired of sitting by her sister on the\\nbank, and of having nothing to do: once or twice she had peeped into the\\nbook her sister was reading, but it had no pictures or conversations in\\nit, 'and what is the use of a book,' thought Alice 'without pictures or\\nconversations?'\\n</p>\\n</div>\\n\")"
      ]
     },
     "execution_count": 2,
     "metadata": {
      "comm_id": "5d7bab0a-26f7-48b8-a704-7c2b8ab47207",
      "reactive": true
     },
     "output_type": "execute_result"
    }
   ],
   "source": [
    "f = Revealable(false, \"\"\"\n",
    "    <div class=\"answer\">\n",
    "<h2>Alice's Adventures in Wonderland</h2>\n",
    "<p>by Lewis Carroll</p>\n",
    "<h3>Chapter 1. Down the Rabbit-Hole</h3>\n",
    "    <p>\n",
    "      Alice was beginning to get very tired of sitting by her sister on the\n",
    "      bank, and of having nothing to do: once or twice she had peeped into the\n",
    "      book her sister was reading, but it had no pictures or conversations in\n",
    "      it, 'and what is the use of a book,' thought Alice 'without pictures or\n",
    "      conversations?'\n",
    "    </p>\n",
    "    </div>\n",
    "        \"\"\")\n",
    "\n",
    "@manipulate for n in togglebutton(; label=\"Show/Hide Answer\", value=false, signal=Input(false))\n",
    "    f.show = n\n",
    "    f\n",
    "end"
   ]
  },
  {
   "cell_type": "code",
   "execution_count": 3,
   "metadata": {
    "collapsed": false,
    "input_collapsed": true,
    "run_control": {
     "read_only": false
    }
   },
   "outputs": [
    {
     "data": {
      "text/html": [],
      "text/plain": [
       "ToggleButton([Input{Bool}] false,\"Show/Hide Example\",false)"
      ]
     },
     "metadata": {},
     "output_type": "display_data"
    },
    {
     "data": {
      "text/html": [
       "\n"
      ],
      "text/plain": [
       "Revealable(false,\"<div class=\\\"example\\\">\\n<p>\\n  So she was considering in her own mind (as well as she could, for the hot\\n  day made her feel very sleepy and stupid), whether the pleasure of making\\n  a daisy-chain would be worth the trouble of getting up and picking the\\n  daisies, when suddenly a White Rabbit with pink eyes ran close by her.\\n</p>\\n</div>\\n\")"
      ]
     },
     "execution_count": 3,
     "metadata": {
      "comm_id": "26e9e618-1709-4316-ba98-e03accdb1b5e",
      "reactive": true
     },
     "output_type": "execute_result"
    }
   ],
   "source": [
    "g = Revealable(false, \"\"\"\n",
    "    <div class=\"example\">\n",
    "    <p>\n",
    "      So she was considering in her own mind (as well as she could, for the hot\n",
    "      day made her feel very sleepy and stupid), whether the pleasure of making\n",
    "      a daisy-chain would be worth the trouble of getting up and picking the\n",
    "      daisies, when suddenly a White Rabbit with pink eyes ran close by her.\n",
    "    </p>\n",
    "    </div>\n",
    "    \"\"\")\n",
    "\n",
    "@manipulate for n in togglebutton(; label=\"Show/Hide Example\", value=false, signal=Input(false))\n",
    "    g.show = n\n",
    "    g\n",
    "end"
   ]
  },
  {
   "cell_type": "code",
   "execution_count": 4,
   "metadata": {
    "collapsed": false,
    "input_collapsed": true,
    "run_control": {
     "read_only": false
    }
   },
   "outputs": [
    {
     "data": {
      "text/html": [],
      "text/plain": [
       "ToggleButton([Input{Bool}] false,\"Show/Hide Hint\",false)"
      ]
     },
     "metadata": {},
     "output_type": "display_data"
    },
    {
     "data": {
      "text/html": [
       "\n"
      ],
      "text/plain": [
       "Revealable(false,\"<div class=\\\"hint\\\">\\n<p>\\n  There was nothing so <em>very</em> remarkable in that; nor did Alice think it so\\n  <em>very</em> much out of the way to hear the Rabbit say to itself, 'Oh dear! Oh\\n  dear! I shall be late!' (when she thought it over afterwards, it occurred\\n  to her that she ought to have wondered at this, but at the time it all\\n  seemed quite natural); but when the Rabbit actually <em>took a watch out of\\n  its waistcoat-pocket</em>, and looked at it, and then hurried on, Alice started\\n  to her feet, for it flashed across her mind that she had never before seen\\n  a rabbit with either a waistcoat-pocket, or a watch to take out of it, and\\n  burning with curiosity, she ran across the field after it, and fortunately\\n  was just in time to see it pop down a large rabbit-hole under the hedge.\\n</p>\\n</div>\\n\")"
      ]
     },
     "execution_count": 4,
     "metadata": {
      "comm_id": "e5235725-3d8f-41a0-b715-ac86d964519e",
      "reactive": true
     },
     "output_type": "execute_result"
    }
   ],
   "source": [
    "h = Revealable(false, \"\"\"\n",
    "    <div class=\"hint\">\n",
    "    <p>\n",
    "      There was nothing so <em>very</em> remarkable in that; nor did Alice think it so\n",
    "      <em>very</em> much out of the way to hear the Rabbit say to itself, 'Oh dear! Oh\n",
    "      dear! I shall be late!' (when she thought it over afterwards, it occurred\n",
    "      to her that she ought to have wondered at this, but at the time it all\n",
    "      seemed quite natural); but when the Rabbit actually <em>took a watch out of\n",
    "      its waistcoat-pocket</em>, and looked at it, and then hurried on, Alice started\n",
    "      to her feet, for it flashed across her mind that she had never before seen\n",
    "      a rabbit with either a waistcoat-pocket, or a watch to take out of it, and\n",
    "      burning with curiosity, she ran across the field after it, and fortunately\n",
    "      was just in time to see it pop down a large rabbit-hole under the hedge.\n",
    "    </p>\n",
    "    </div>\n",
    "    \"\"\")\n",
    "\n",
    "@manipulate for n in togglebutton(; label=\"Show/Hide Hint\", value=false, signal=Input(false))\n",
    "    h.show = n\n",
    "    h\n",
    "end"
   ]
  },
  {
   "cell_type": "markdown",
   "metadata": {},
   "source": [
    "You can unhide the code cells above by clicking on the chevron-up icon. If you don't have [Hide Input](https://github.com/ipython-contrib/IPython-notebook-extensions/blob/3.x/usability/hide_input.js) installed, they weren't hidden in the first place. \n",
    "\n",
    "Here is a cell with the code unhidden:"
   ]
  },
  {
   "cell_type": "code",
   "execution_count": 5,
   "metadata": {
    "collapsed": false,
    "input_collapsed": false,
    "run_control": {
     "read_only": false
    }
   },
   "outputs": [
    {
     "data": {
      "text/html": [],
      "text/plain": [
       "ToggleButton([Input{Bool}] false,\"Show/Hide Notes\",false)"
      ]
     },
     "metadata": {},
     "output_type": "display_data"
    },
    {
     "data": {
      "text/html": [
       "\n"
      ],
      "text/plain": [
       "Revealable(false,\"<div class=\\\"notes\\\">\\n<p>\\n  In another moment down went Alice after it, never once considering how in\\n  the world she was to get out again.\\n</p>\\n<p>\\n  The rabbit-hole went straight on like a tunnel for some way, and then\\n  dipped suddenly down, so suddenly that Alice had not a moment to think\\n  about stopping herself before she found herself falling down a very deep\\n  well.\\n</p>\\n</div>\\n\")"
      ]
     },
     "execution_count": 5,
     "metadata": {
      "comm_id": "d7a41ccd-7a28-43a8-b393-0d8558a2ccf3",
      "reactive": true
     },
     "output_type": "execute_result"
    }
   ],
   "source": [
    "k = Revealable(false, \"\"\"\n",
    "<div class=\"notes\">\n",
    "    <p>\n",
    "      In another moment down went Alice after it, never once considering how in\n",
    "      the world she was to get out again.\n",
    "    </p>\n",
    "    <p>\n",
    "      The rabbit-hole went straight on like a tunnel for some way, and then\n",
    "      dipped suddenly down, so suddenly that Alice had not a moment to think\n",
    "      about stopping herself before she found herself falling down a very deep\n",
    "      well.\n",
    "    </p>\n",
    "    </div>\n",
    "    \"\"\")\n",
    "\n",
    "@manipulate for n in togglebutton(; label=\"Show/Hide Notes\", value=false, signal=Input(false))\n",
    "    k.show = n\n",
    "    k\n",
    "end"
   ]
  },
  {
   "cell_type": "markdown",
   "metadata": {},
   "source": [
    "###Limitations\n",
    "\n",
    "The hidden HTML and button must be in the same cell. If you try to put multiple HTML blocks and buttons in one cell, only the last button will work."
   ]
  },
  {
   "cell_type": "code",
   "execution_count": 6,
   "metadata": {
    "collapsed": false,
    "run_control": {
     "read_only": false
    }
   },
   "outputs": [
    {
     "data": {
      "text/html": [],
      "text/plain": [
       "ToggleButton([Input{Bool}] false,\"This button doesn't work\",false)"
      ]
     },
     "metadata": {},
     "output_type": "display_data"
    },
    {
     "data": {
      "text/html": [],
      "text/plain": [
       "ToggleButton([Input{Bool}] false,\"Neither does this one\",false)"
      ]
     },
     "metadata": {},
     "output_type": "display_data"
    },
    {
     "data": {
      "text/html": [],
      "text/plain": [
       "ToggleButton([Input{Bool}] false,\"But this one does!\",false)"
      ]
     },
     "metadata": {},
     "output_type": "display_data"
    },
    {
     "data": {
      "text/html": [
       "\n"
      ],
      "text/plain": [
       "Revealable(false,\"<div class=\\\"hint\\\">\\n<p>\\n  Down, down, down. Would the fall <em>never</em> come to an end! 'I wonder how many\\n  miles I've fallen by this time?' she said aloud. 'I must be getting\\n  somewhere near the centre of the earth. Let me see: that would be four\\n  thousand miles down, I think&mdash;' (for, you see, Alice had learnt\\n  several things of this sort in her lessons in the schoolroom, and though\\n  this was not a <em>very</em> good opportunity for showing off her knowledge, as\\n  there was no one to listen to her, still it was good practice to say it\\n  over) '&mdash;yes, that's about the right distance&mdash;but then I wonder\\n  what Latitude or Longitude I've got to?' (Alice had no idea what Latitude\\n  was, or Longitude either, but thought they were nice grand words to say.)\\n</p>\\n</div>\\n\")"
      ]
     },
     "execution_count": 6,
     "metadata": {
      "comm_id": "870446db-5880-4d7a-9676-998d2ad7db56",
      "reactive": true
     },
     "output_type": "execute_result"
    }
   ],
   "source": [
    "a = Revealable(false, \"\"\"\n",
    "<div class=\"notes\">\n",
    "    <p>\n",
    "      Either the well was very deep, or she fell very slowly, for she had plenty\n",
    "      of time as she went down to look about her and to wonder what was going to\n",
    "      happen next. First, she tried to look down and make out what she was\n",
    "      coming to, but it was too dark to see anything; then she looked at the\n",
    "      sides of the well, and noticed that they were filled with cupboards and\n",
    "      book-shelves; here and there she saw maps and pictures hung upon pegs. She\n",
    "      took down a jar from one of the shelves as she passed; it was labelled\n",
    "      'ORANGE MARMALADE', but to her great disappointment it was empty: she did\n",
    "      not like to drop the jar for fear of killing somebody, so managed to put\n",
    "      it into one of the cupboards as she fell past it.\n",
    "    </p>\n",
    "    </div>\n",
    "    \"\"\")\n",
    "\n",
    "b = Revealable(false, \"\"\"\n",
    "<div class=\"answer\">\n",
    "    <p>\n",
    "      'Well!' thought Alice to herself, 'after such a fall as this, I shall\n",
    "      think nothing of tumbling down stairs! How brave they'll all think me at\n",
    "      home! Why, I wouldn't say anything about it, even if I fell off the top of\n",
    "      the house!' (Which was very likely true.)\n",
    "    </p>\n",
    "    </div>\n",
    "    \"\"\")\n",
    "\n",
    "c = Revealable(false, \"\"\"\n",
    "<div class=\"hint\">\n",
    "    <p>\n",
    "      Down, down, down. Would the fall <em>never</em> come to an end! 'I wonder how many\n",
    "      miles I've fallen by this time?' she said aloud. 'I must be getting\n",
    "      somewhere near the centre of the earth. Let me see: that would be four\n",
    "      thousand miles down, I think&mdash;' (for, you see, Alice had learnt\n",
    "      several things of this sort in her lessons in the schoolroom, and though\n",
    "      this was not a <em>very</em> good opportunity for showing off her knowledge, as\n",
    "      there was no one to listen to her, still it was good practice to say it\n",
    "      over) '&mdash;yes, that's about the right distance&mdash;but then I wonder\n",
    "      what Latitude or Longitude I've got to?' (Alice had no idea what Latitude\n",
    "      was, or Longitude either, but thought they were nice grand words to say.)\n",
    "    </p>\n",
    "    </div>\n",
    "    \"\"\")\n",
    "\n",
    "@manipulate for z in togglebutton(; label=\"This button doesn't work\", value=false, signal=Input(false))\n",
    "    a.show = z\n",
    "    a\n",
    "end\n",
    "\n",
    "@manipulate for y in togglebutton(; label=\"Neither does this one\", value=false, signal=Input(false))\n",
    "    b.show = y\n",
    "    b\n",
    "end\n",
    "\n",
    "@manipulate for x in togglebutton(; label=\"But this one does!\", value=false, signal=Input(false))\n",
    "    c.show = x\n",
    "    c\n",
    "end"
   ]
  },
  {
   "cell_type": "code",
   "execution_count": null,
   "metadata": {
    "collapsed": true
   },
   "outputs": [],
   "source": []
  }
 ],
 "metadata": {
  "kernelspec": {
   "display_name": "Julia 0.3.9",
   "language": "julia",
   "name": "julia-0.3"
  },
  "language_info": {
   "name": "julia",
   "version": "0.3.9"
  }
 },
 "nbformat": 4,
 "nbformat_minor": 0
}
