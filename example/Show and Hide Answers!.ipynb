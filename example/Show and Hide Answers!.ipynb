{
 "cells": [
  {
   "cell_type": "code",
   "execution_count": 10,
   "metadata": {
    "collapsed": false,
    "input_collapsed": false,
    "run_control": {
     "read_only": false
    }
   },
   "outputs": [],
   "source": [
    "using Revealables\n",
    "using Reactive\n",
    "using Interact"
   ]
  },
  {
   "cell_type": "markdown",
   "metadata": {},
   "source": [
    "Run the cells below to generate buttons that will reveal HTML. The code cells are hidden by the [Hide Input](https://github.com/ipython-contrib/IPython-notebook-extensions/blob/3.x/usability/hide_input.js) IPython notebook extension, which is automatically installed by the Revealables package.\n",
    "\n",
    "Adding Revealables downloads a CSS file (`revealables.css`) in the same folder as your notebook profile's custom CSS.\n",
    "\n",
    "`revealables.css` has 4 defined `<div>` classes: `notes`, `example`, `hint`, and `answer`. Each has its own background color. You can edit these classes and define your own."
   ]
  },
  {
   "cell_type": "code",
   "execution_count": 11,
   "metadata": {
    "collapsed": false,
    "input_collapsed": true,
    "run_control": {
     "read_only": false
    }
   },
   "outputs": [
    {
     "data": {
      "text/html": [],
      "text/plain": [
       "ToggleButton([Input{Bool}] false,\"Show/Hide Answer\",false)"
      ]
     },
     "metadata": {},
     "output_type": "display_data"
    },
    {
     "data": {
      "text/html": [
       "\n"
      ],
      "text/plain": [
       "Revealable(\"<h2>Alice's Adventures in Wonderland</h2>\\n<p>by Lewis Carroll</p>\\n<h3>Chapter 1. Down the Rabbit-Hole</h3>\\n<p>\\n  Alice was beginning to get very tired of sitting by her sister on the\\n  bank, and of having nothing to do: once or twice she had peeped into the\\n  book her sister was reading, but it had no pictures or conversations in\\n  it, 'and what is the use of a book,' thought Alice 'without pictures or\\n  conversations?'\\n</p>\\n\",\"answer\",false)"
      ]
     },
     "execution_count": 11,
     "metadata": {
      "comm_id": "ed6dfccc-19f2-4e9a-967a-7147a8e4eae4",
      "reactive": true
     },
     "output_type": "execute_result"
    }
   ],
   "source": [
    "revealable(\"\"\"\n",
    "<h2>Alice's Adventures in Wonderland</h2>\n",
    "<p>by Lewis Carroll</p>\n",
    "<h3>Chapter 1. Down the Rabbit-Hole</h3>\n",
    "    <p>\n",
    "      Alice was beginning to get very tired of sitting by her sister on the\n",
    "      bank, and of having nothing to do: once or twice she had peeped into the\n",
    "      book her sister was reading, but it had no pictures or conversations in\n",
    "      it, 'and what is the use of a book,' thought Alice 'without pictures or\n",
    "      conversations?'\n",
    "    </p>\n",
    "    \"\"\", \"answer\", false)"
   ]
  },
  {
   "cell_type": "code",
   "execution_count": 12,
   "metadata": {
    "collapsed": false,
    "input_collapsed": true,
    "run_control": {
     "read_only": false
    }
   },
   "outputs": [
    {
     "data": {
      "text/html": [],
      "text/plain": [
       "ToggleButton([Input{Bool}] false,\"Show/Hide Example\",false)"
      ]
     },
     "metadata": {},
     "output_type": "display_data"
    },
    {
     "data": {
      "text/html": [
       "\n"
      ],
      "text/plain": [
       "Revealable(\"<p>\\n  So she was considering in her own mind (as well as she could, for the hot\\n  day made her feel very sleepy and stupid), whether the pleasure of making\\n  a daisy-chain would be worth the trouble of getting up and picking the\\n  daisies, when suddenly a White Rabbit with pink eyes ran close by her.\\n</p>\\n\",\"example\",false)"
      ]
     },
     "execution_count": 12,
     "metadata": {
      "comm_id": "95dcbd0d-9c2e-446d-9bd2-1931b92d0152",
      "reactive": true
     },
     "output_type": "execute_result"
    }
   ],
   "source": [
    "revealable(\"\"\"\n",
    "    <p>\n",
    "      So she was considering in her own mind (as well as she could, for the hot\n",
    "      day made her feel very sleepy and stupid), whether the pleasure of making\n",
    "      a daisy-chain would be worth the trouble of getting up and picking the\n",
    "      daisies, when suddenly a White Rabbit with pink eyes ran close by her.\n",
    "    </p>\n",
    "    \"\"\", \"example\", false)"
   ]
  },
  {
   "cell_type": "markdown",
   "metadata": {
    "input_collapsed": true
   },
   "source": [
    "If you have [Hide Input](https://github.com/ipython-contrib/IPython-notebook-extensions/blob/3.x/usability/hide_input.js) installed, the two code cells above are hidden and you can see only the buttons. You can unhide the code cells above by clicking on the chevron-up icon. If you don't have Hide Input, the code wasn't hidden in the first place.\n",
    "\n",
    "The next two code cells show two ways to create a button:"
   ]
  },
  {
   "cell_type": "code",
   "execution_count": 18,
   "metadata": {
    "collapsed": false,
    "input_collapsed": false,
    "run_control": {
     "read_only": false
    }
   },
   "outputs": [
    {
     "data": {
      "text/html": [],
      "text/plain": [
       "ToggleButton([Input{Bool}] false,\"Show/Hide Hint\",false)"
      ]
     },
     "metadata": {},
     "output_type": "display_data"
    },
    {
     "data": {
      "text/html": [
       "\n"
      ],
      "text/plain": [
       "Revealable(\"<p>\\nYou can use two steps to create a button:\\n<ol><li>Create an instance of a <code>Revealable</code>, which has three fields:\\n    <ul>\\n    <li>HTML to display [<code>ASCIIString</code>]</li>\\n    <li>the name of a class for use with CSS (optional) [<code>ASCIIString</code>]</li>\\n    <li>whether or not the HTML should be displayed automatically (false by default) [<code>Bool</code>]</li>\\n    </ul>\\n<br />\\n</li>\\n<li>run the <code>revealable</code> function to create the button.</li>\\n</ol>\\n</p>\\n\",\"hint\",false)"
      ]
     },
     "execution_count": 18,
     "metadata": {
      "comm_id": "887dbc60-50ea-4dfb-afb8-536fc91a477c",
      "reactive": true
     },
     "output_type": "execute_result"
    }
   ],
   "source": [
    "h = Revealable(\"\"\"\n",
    "    <p>\n",
    "    You can use two steps to create a button:\n",
    "    <ol><li>Create an instance of a <code>Revealable</code>, which has three fields:\n",
    "        <ul>\n",
    "        <li>HTML to display [<code>ASCIIString</code>]</li>\n",
    "        <li>the name of a class for use with CSS (optional) [<code>ASCIIString</code>]</li>\n",
    "        <li>whether or not the HTML should be displayed automatically (false by default) [<code>Bool</code>]</li>\n",
    "        </ul>\n",
    "    <br />\n",
    "    </li>\n",
    "    <li>run the <code>revealable</code> function to create the button.</li>\n",
    "    </ol>\n",
    "    </p>\n",
    "    \"\"\", \"hint\", false)\n",
    "\n",
    "revealable(h)"
   ]
  },
  {
   "cell_type": "code",
   "execution_count": 19,
   "metadata": {
    "collapsed": false,
    "input_collapsed": false,
    "run_control": {
     "read_only": false
    }
   },
   "outputs": [
    {
     "data": {
      "text/html": [],
      "text/plain": [
       "ToggleButton([Input{Bool}] false,\"Show/Hide Notes\",false)"
      ]
     },
     "metadata": {},
     "output_type": "display_data"
    },
    {
     "data": {
      "text/html": [
       "\n"
      ],
      "text/plain": [
       "Revealable(\"<p>\\nYou can also just run the <code>revealable</code> function \\nand pass in the same arguments as if you were instantiating \\nthe <code>Revealable</code> type. The same defaults and \\noptions apply.\\n</p>\\n\",\"notes\",false)"
      ]
     },
     "execution_count": 19,
     "metadata": {
      "comm_id": "0610b030-4ec7-4166-8ed0-96c114804c0f",
      "reactive": true
     },
     "output_type": "execute_result"
    }
   ],
   "source": [
    "revealable(\"\"\"\n",
    "    <p>\n",
    "    You can also just run the <code>revealable</code> function \n",
    "    and pass in the same arguments as if you were instantiating \n",
    "    the <code>Revealable</code> type. The same defaults and \n",
    "    options apply.\n",
    "    </p>\n",
    "    \"\"\", \"notes\", false)"
   ]
  },
  {
   "cell_type": "markdown",
   "metadata": {},
   "source": [
    "###Default Values\n",
    "Since Revealables are set not to show initially, you can omit the last argument. If you do not want to set a class for the div that will display, you can also omit the second string."
   ]
  },
  {
   "cell_type": "code",
   "execution_count": 21,
   "metadata": {
    "collapsed": false,
    "run_control": {
     "read_only": false
    }
   },
   "outputs": [
    {
     "data": {
      "text/html": [],
      "text/plain": [
       "ToggleButton([Input{Bool}] false,\"Show/Hide\",false)"
      ]
     },
     "metadata": {},
     "output_type": "display_data"
    },
    {
     "data": {
      "text/html": [
       "\n"
      ],
      "text/plain": [
       "Revealable(\"<p>There is only an <font color=\\\"purple\\\">HTML argument</font> \\npassed to this function. By default, the HTML is hidden when the button\\nis produced.</p>\",\"\",false)"
      ]
     },
     "execution_count": 21,
     "metadata": {
      "comm_id": "33f8f2ae-1626-4979-bd0f-f741ca58b19b",
      "reactive": true
     },
     "output_type": "execute_result"
    }
   ],
   "source": [
    "revealable(\"\"\"<p>There is only an <font color=\"purple\">HTML argument</font> \n",
    "    passed to this function. By default, the HTML is hidden when the button\n",
    "    is produced.</p>\"\"\")"
   ]
  },
  {
   "cell_type": "code",
   "execution_count": 24,
   "metadata": {
    "collapsed": false,
    "run_control": {
     "read_only": false
    }
   },
   "outputs": [
    {
     "data": {
      "text/html": [],
      "text/plain": [
       "ToggleButton([Input{Bool}] false,\"Show/Hide Text\",false)"
      ]
     },
     "metadata": {},
     "output_type": "display_data"
    },
    {
     "data": {
      "text/html": [
       "\n"
      ],
      "text/plain": [
       "Revealable(\"<p>The function can also take the HTML and the name of the class\\n(so you can format the &lt;div&gt; through CSS).</p>\\n<p>The name of the class shows up on the button.</p>\\n\",\"text\",false)"
      ]
     },
     "execution_count": 24,
     "metadata": {
      "comm_id": "85d87287-0f58-40f0-b7a0-05b67ed1f67f",
      "reactive": true
     },
     "output_type": "execute_result"
    }
   ],
   "source": [
    "revealable(\"\"\"<p>The function can also take the HTML and the name of the class\n",
    "    (so you can format the &lt;div&gt; through CSS).</p>\n",
    "    <p>The name of the class shows up on the button.</p>\n",
    "    \"\"\", \"text\")"
   ]
  },
  {
   "cell_type": "markdown",
   "metadata": {},
   "source": [
    "###Limitations\n",
    "\n",
    "If put multiple buttons in one cell, only the last button will work."
   ]
  },
  {
   "cell_type": "code",
   "execution_count": 26,
   "metadata": {
    "collapsed": false,
    "run_control": {
     "read_only": false
    }
   },
   "outputs": [
    {
     "data": {
      "text/html": [],
      "text/plain": [
       "ToggleButton([Input{Bool}] false,\"Show/Hide Notes\",false)"
      ]
     },
     "metadata": {},
     "output_type": "display_data"
    },
    {
     "data": {
      "text/html": [],
      "text/plain": [
       "ToggleButton([Input{Bool}] false,\"Show/Hide Answer\",false)"
      ]
     },
     "metadata": {},
     "output_type": "display_data"
    },
    {
     "data": {
      "text/html": [],
      "text/plain": [
       "ToggleButton([Input{Bool}] false,\"Show/Hide Hint\",false)"
      ]
     },
     "metadata": {},
     "output_type": "display_data"
    },
    {
     "data": {
      "text/html": [
       "\n"
      ],
      "text/plain": [
       "Revealable(\"<p>\\nOnly the third button works! If you know how to fix this, I'd love to learn.\\n</p>\\n\",\"hint\",false)"
      ]
     },
     "execution_count": 26,
     "metadata": {
      "comm_id": "404175a4-2b4b-4684-9b23-dbba2f205ce7",
      "reactive": true
     },
     "output_type": "execute_result"
    }
   ],
   "source": [
    "revealable(\"\"\"\n",
    "    <p>\n",
    "    The first button won't work.\n",
    "    </p>\n",
    "    \"\"\", \"notes\", false)\n",
    "\n",
    "revealable(\"\"\"\n",
    "    <p>\n",
    "    The second button won't work.\n",
    "    </p>\n",
    "    \"\"\", \"answer\", false)\n",
    "\n",
    "revealable(\"\"\"\n",
    "    <p>\n",
    "    Only the third button works! If you know how to fix this, I'd love to learn.\n",
    "    </p>\n",
    "    \"\"\", \"hint\", false)"
   ]
  },
  {
   "cell_type": "code",
   "execution_count": 7,
   "metadata": {
    "collapsed": true,
    "run_control": {
     "read_only": false
    }
   },
   "outputs": [],
   "source": [
    "#TODO\n",
    "#Revealable\"Note: \" --> something like L_str"
   ]
  },
  {
   "cell_type": "code",
   "execution_count": null,
   "metadata": {
    "collapsed": true,
    "run_control": {
     "read_only": false
    }
   },
   "outputs": [],
   "source": []
  },
  {
   "cell_type": "code",
   "execution_count": null,
   "metadata": {
    "collapsed": true,
    "run_control": {
     "read_only": false
    }
   },
   "outputs": [],
   "source": []
  },
  {
   "cell_type": "code",
   "execution_count": null,
   "metadata": {
    "collapsed": true,
    "run_control": {
     "read_only": false
    }
   },
   "outputs": [],
   "source": []
  }
 ],
 "metadata": {
  "kernelspec": {
   "display_name": "Julia 0.3.9",
   "language": "julia",
   "name": "julia-0.3"
  },
  "language_info": {
   "name": "julia",
   "version": "0.3.9"
  }
 },
 "nbformat": 4,
 "nbformat_minor": 0
}
