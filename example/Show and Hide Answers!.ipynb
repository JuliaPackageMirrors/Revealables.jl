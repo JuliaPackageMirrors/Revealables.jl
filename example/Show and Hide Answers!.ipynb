{
 "cells": [
  {
   "cell_type": "code",
   "execution_count": null,
   "metadata": {
    "collapsed": false,
    "input_collapsed": false,
    "run_control": {
     "read_only": false
    }
   },
   "outputs": [],
   "source": [
    "using Revealables"
   ]
  },
  {
   "cell_type": "markdown",
   "metadata": {},
   "source": [
    "Run the cells below to generate buttons that will reveal HTML. The code cells are hidden by the [Hide Input](https://github.com/ipython-contrib/IPython-notebook-extensions/blob/3.x/usability/hide_input.js) IPython notebook extension, which is automatically installed by the Revealables package."
   ]
  },
  {
   "cell_type": "code",
   "execution_count": null,
   "metadata": {
    "collapsed": false,
    "input_collapsed": true,
    "run_control": {
     "read_only": false
    }
   },
   "outputs": [],
   "source": [
    "revealable(\"\"\"\n",
    "#Revealables.jl\n",
    "Hide and reveal text with the click of a button\n",
    "\"\"\", \"Click this button!\", false)"
   ]
  },
  {
   "cell_type": "markdown",
   "metadata": {
    "input_collapsed": true
   },
   "source": [
    "If you have [Hide Input](https://github.com/ipython-contrib/IPython-notebook-extensions/blob/3.x/usability/hide_input.js) installed, the code cell above is hidden and you can see only the button. You can unhide the code cells above by clicking on the chevron-up icon. If you don't have Hide Input, the code wasn't hidden in the first place.\n",
    "\n",
    "The next two code cells show two ways to create a button:"
   ]
  },
  {
   "cell_type": "code",
   "execution_count": null,
   "metadata": {
    "collapsed": false,
    "input_collapsed": false,
    "run_control": {
     "read_only": false
    }
   },
   "outputs": [],
   "source": [
    "h = Revealable(\"\"\"\n",
    "You can use two steps to create a button:\n",
    "1. Create an instance of a <code>Revealable</code>, which has three fields:\n",
    "   * Markdown (which can include HTML) to display [<code>ASCIIString</code>]\n",
    "   * the label to use on a button [<code>ASCIIString</code>]\n",
    "   * whether or not the Markdown should be displayed automatically (`false` by default) [<code>Bool</code>]\n",
    "2. run the <code>revealable</code> function to create the button.\n",
    "\"\"\", \"This is the button's label\", false)\n",
    "\n",
    "revealable(h)"
   ]
  },
  {
   "cell_type": "code",
   "execution_count": null,
   "metadata": {
    "collapsed": false,
    "input_collapsed": false,
    "run_control": {
     "read_only": false
    }
   },
   "outputs": [],
   "source": [
    "revealable(\"\"\"\n",
    "You can also just run the <code>revealable</code> function \n",
    "and pass in the same arguments as if you were instantiating \n",
    "the <code>Revealable</code> type. The same defaults and \n",
    "options apply.\n",
    "\"\"\", \"Another Button!\", false)"
   ]
  },
  {
   "cell_type": "markdown",
   "metadata": {},
   "source": [
    "###Default Values\n",
    "Since Revealables are set not to show initially, you can omit the last argument. If you do not want to set your own label for the button, you can also omit the second string."
   ]
  },
  {
   "cell_type": "code",
   "execution_count": null,
   "metadata": {
    "collapsed": false,
    "run_control": {
     "read_only": false
    }
   },
   "outputs": [],
   "source": [
    "revealable(\"\"\"There is only an <font color=\"purple\">ASCIIString argument</font> \n",
    "passed to this function. The string will be displayed as Markdown, \n",
    "which can handle many HTML tags.\"\"\")"
   ]
  },
  {
   "cell_type": "code",
   "execution_count": null,
   "metadata": {
    "collapsed": false,
    "run_control": {
     "read_only": false
    }
   },
   "outputs": [],
   "source": [
    "revealable(\"\"\"In addition to including HTML and Markdown, you can\n",
    "format your text through CSS classes. That will require you to\n",
    "define new classes in your custom.css file.\"\"\")"
   ]
  },
  {
   "cell_type": "markdown",
   "metadata": {},
   "source": [
    "###Other Uses\n",
    "With `Interact`'s widgets:"
   ]
  },
  {
   "cell_type": "code",
   "execution_count": null,
   "metadata": {
    "collapsed": false
   },
   "outputs": [],
   "source": [
    "slidercontent = [\n",
    "    Revealable(\"\"\"<font color=\"#990000\">Step 1: Make an array of Revealables with `show` set to `true`</font>\"\"\", \"\", true),\n",
    "    Revealable(\"\"\"<font color=\"#009900\">Step 2: using `Interactive.@manipulate`, create a slider (or other widget)</font>\"\"\", \"\", true),\n",
    "    Revealable(\"\"\"<font color=\"#000099\">Step 3: Display the correct Revealable by using the widget. The Revealable will use the richest display available.</font>\"\"\", \"\", true),\n",
    "    Revealable(\"\"\"I use this most often for stepping through a series of images with explanations.\"\"\", \"\", true)]\n",
    "\n",
    "using Interact\n",
    "@manipulate for s = slider(1:4, value=1)\n",
    "    slidercontent[s]\n",
    "end"
   ]
  },
  {
   "cell_type": "markdown",
   "metadata": {},
   "source": [
    "###Limitations\n",
    "\n",
    "If put multiple buttons in one cell, only the last button will work."
   ]
  },
  {
   "cell_type": "code",
   "execution_count": null,
   "metadata": {
    "collapsed": false,
    "run_control": {
     "read_only": false
    }
   },
   "outputs": [],
   "source": [
    "revealable(\"\"\"\n",
    "    The first button won't work.\n",
    "\"\"\", \"Broken Button\", false)\n",
    "\n",
    "revealable(\"\"\"\n",
    "    The second button won't work.\n",
    "\"\"\", \"Another Broken Button\", false)\n",
    "\n",
    "revealable(\"\"\"Only the third button works! \n",
    "If you know how to fix this, I'd love to learn.\"\"\", \"Functional Button!\", false)"
   ]
  },
  {
   "cell_type": "code",
   "execution_count": null,
   "metadata": {
    "collapsed": true,
    "run_control": {
     "read_only": false
    }
   },
   "outputs": [],
   "source": []
  }
 ],
 "metadata": {
  "kernelspec": {
   "display_name": "Julia 0.3.10",
   "language": "julia",
   "name": "julia-0.3"
  },
  "language_info": {
   "file_extension": ".jl",
   "mimetype": "application/julia",
   "name": "julia",
   "version": "0.3.10"
  }
 },
 "nbformat": 4,
 "nbformat_minor": 0
}
